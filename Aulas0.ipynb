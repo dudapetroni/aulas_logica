{
 "cells": [
  {
   "cell_type": "code",
   "execution_count": 5,
   "metadata": {},
   "outputs": [
    {
     "name": "stdout",
     "output_type": "stream",
     "text": [
      "Olá, mundo!\n"
     ]
    }
   ],
   "source": [
    "print('Olá, mundo!')"
   ]
  },
  {
   "cell_type": "code",
   "execution_count": 6,
   "metadata": {},
   "outputs": [
    {
     "name": "stdout",
     "output_type": "stream",
     "text": [
      "Maria é linda\n"
     ]
    }
   ],
   "source": [
    "#O comentário não aparece na programação, é só uma anotação\n",
    "#Print serve para exibir alguma mensagem\n",
    "print('Maria é linda')"
   ]
  },
  {
   "cell_type": "code",
   "execution_count": 7,
   "metadata": {},
   "outputs": [
    {
     "name": "stdout",
     "output_type": "stream",
     "text": [
      "Meu primeiro código em Python, com aspas duplas\n",
      "Meu primeiro código em Python, com aspas duplas\n",
      "para duplicar uma linha é necessário pressionar shift+alt+seta para baixo\n"
     ]
    }
   ],
   "source": [
    "print(\"Meu primeiro código em Python, com aspas duplas\")\n",
    "print(\"Meu primeiro código em Python, com aspas duplas\")\n",
    "print (\"para duplicar uma linha é necessário pressionar shift+alt+seta para baixo\")"
   ]
  },
  {
   "cell_type": "code",
   "execution_count": 8,
   "metadata": {},
   "outputs": [
    {
     "name": "stdout",
     "output_type": "stream",
     "text": [
      "12345\n"
     ]
    }
   ],
   "source": [
    "print(12345)"
   ]
  },
  {
   "cell_type": "code",
   "execution_count": 9,
   "metadata": {},
   "outputs": [
    {
     "name": "stdout",
     "output_type": "stream",
     "text": [
      "11\n"
     ]
    }
   ],
   "source": [
    "print (5+6)"
   ]
  },
  {
   "cell_type": "code",
   "execution_count": 10,
   "metadata": {},
   "outputs": [
    {
     "name": "stdout",
     "output_type": "stream",
     "text": [
      "string 10 78.9 9\n"
     ]
    }
   ],
   "source": [
    "#É possível imprimir várias informações ao mesmo tempo separando-as por ,\n",
    "print ('string',10, 78.9, 4+5)"
   ]
  },
  {
   "cell_type": "markdown",
   "metadata": {},
   "source": [
    "Aula 15/02/2024 - Comandos de saída / Tipos de dados / Operações Aritméticas (+,-,*,/,%,**)"
   ]
  },
  {
   "cell_type": "code",
   "execution_count": 11,
   "metadata": {},
   "outputs": [
    {
     "name": "stdout",
     "output_type": "stream",
     "text": [
      "15\n",
      "-1\n",
      "46\n",
      "123.0\n",
      "0\n",
      "27\n",
      "34.0\n"
     ]
    }
   ],
   "source": [
    "print (10 + 5) # + é o operador de soma de números inteiros ou decimais\n",
    "print (6 - 7) # - É o operador de subtração de números inteiros ou decimais\n",
    "print (23 * 2) # * É o oprador de multiplicação de números inteiros ou decimais\n",
    "print(246 / 2) # / É o operador de divisão de números inteiros ou decimais\n",
    "print (45 % 3) # % É o operador de restos da divisão (Módulo)\n",
    "print (3 ** 3) # ** É o sinal de exponenciação. Ex: 3³\n",
    "print ((23 + 45) / 2) # É a operação de média, o parênteses define a maior ordem de precedência"
   ]
  },
  {
   "cell_type": "markdown",
   "metadata": {},
   "source": [
    "Aula 22/02/2024 Comandos de entrada (Input) / Variáveis / Pseudocódigo"
   ]
  },
  {
   "cell_type": "code",
   "execution_count": 41,
   "metadata": {},
   "outputs": [
    {
     "name": "stdout",
     "output_type": "stream",
     "text": [
      "Desenvolvimento de sistemas\n",
      "curso\n",
      "Desenvolvimento de sistemas\n",
      "curso Desenvolvimento de sistemas\n",
      "Olá Maria você tem 16 anos e hoje está 34.0 °C\n",
      "Hoje está True\n"
     ]
    },
    {
     "ename": "NameError",
     "evalue": "name 'peso' is not defined",
     "output_type": "error",
     "traceback": [
      "\u001b[1;31m---------------------------------------------------------------------------\u001b[0m",
      "\u001b[1;31mNameError\u001b[0m                                 Traceback (most recent call last)",
      "Cell \u001b[1;32mIn[41], line 33\u001b[0m\n\u001b[0;32m     26\u001b[0m PI \u001b[38;5;241m=\u001b[39m \u001b[38;5;241m3\u001b[39m,\u001b[38;5;241m1415\u001b[39m\n\u001b[0;32m     28\u001b[0m \u001b[38;5;66;03m#Passo 1: Receber o nome da pessoa\u001b[39;00m\n\u001b[0;32m     29\u001b[0m \u001b[38;5;66;03m#Passo 2: Receber a idade da pessoa \u001b[39;00m\n\u001b[0;32m     30\u001b[0m \u001b[38;5;66;03m#Passo 3: Receber o peso da pessoa\u001b[39;00m\n\u001b[0;32m     31\u001b[0m \u001b[38;5;66;03m#Exibir o nome, idade e peso da pessoa\u001b[39;00m\n\u001b[1;32m---> 33\u001b[0m \u001b[38;5;28mprint\u001b[39m (nome,idade,\u001b[43mpeso\u001b[49m)\n\u001b[0;32m     34\u001b[0m \u001b[38;5;28mprint\u001b[39m (\u001b[38;5;124mf\u001b[39m\u001b[38;5;124m'\u001b[39m\u001b[38;5;124mSeu nome é \u001b[39m\u001b[38;5;132;01m{\u001b[39;00mnome\u001b[38;5;132;01m}\u001b[39;00m\u001b[38;5;124m você pesa \u001b[39m\u001b[38;5;132;01m{\u001b[39;00mpeso\u001b[38;5;132;01m}\u001b[39;00m\u001b[38;5;124mkg e tem \u001b[39m\u001b[38;5;132;01m{\u001b[39;00midade\u001b[38;5;132;01m}\u001b[39;00m\u001b[38;5;124m anos\u001b[39m\u001b[38;5;124m'\u001b[39m)\n\u001b[0;32m     35\u001b[0m \u001b[38;5;66;03m#Ao colocar f no print não precisa colocar vírgula para separar as informações do código\u001b[39;00m\n",
      "\u001b[1;31mNameError\u001b[0m: name 'peso' is not defined"
     ]
    }
   ],
   "source": [
    "#Declarando minha primeira variável 😊\n",
    "#Lemos da seguinte forma:\n",
    "#Variável curso recebe (=) a string \"Desenvolvimento de sistemas\"\n",
    "#Receba/Armazene o texto \"Desenvolvimento de sistemas\"\n",
    "curso = \"Desenvolvimento de sistemas\"\n",
    "#Exiba o valor armazenado\n",
    "print (\"Desenvolvimento de sistemas\") #Para se imprimir uma variável não se coloca \"\" 😡\n",
    "print (\"curso\") #Jeito correto de ultilizar uma variável 👍\n",
    "print (curso)\n",
    "print ('curso', curso)\n",
    "\n",
    "#Criando e atribuindo uma variável\n",
    "nome = \"Maria\"\n",
    "idade = 16\n",
    "temperatura = 34.0\n",
    "print (\"Olá\", nome, \"você tem\", idade,\"anos e hoje está\", temperatura, \"°C\")\n",
    "#Exiba o valor das 3 variáveis \n",
    "#Olá Maria, você tem 16 anos e hoje está 34°C\n",
    "chovendo = False\n",
    "dia = True\n",
    "print (\"Hoje está\",dia)\n",
    "#Nesta linha abaixo ocorrerá um erro pois não existe uma variável com o nome salário, então não consegue encontrar nada para exibir 😡\n",
    "#NameError: name 'salario' is not defined\n",
    "#print (\"Salario\", salario)\n",
    "#Declarando uma constante, diferenciamento da variável que posso alterar o valor na constante não é permitido, declaramos com o nome todo em maiúsculo\n",
    "PI = 3,1415\n",
    "\n",
    "#Passo 1: Receber o nome da pessoa\n",
    "#Passo 2: Receber a idade da pessoa \n",
    "#Passo 3: Receber o peso da pessoa\n",
    "#Exibir o nome, idade e peso da pessoa\n",
    "\n",
    "print (nome,idade,peso)\n",
    "print (f'Seu nome é {nome} você pesa {peso}kg e tem {idade} anos')\n",
    "#Ao colocar f no print não precisa colocar vírgula para separar as informações do código\n",
    "nome = input ('Qual é o seu nome?')\n",
    "idade = int(input ('Qual a sua idade?'))\n",
    "peso = float(input ('Qual o seu peso?'))\n",
    "#Input pede para o usuário inserir as informações\n",
    "print (f'Seu nome é {nome}, sua idade é {idade} e você pesa {peso}kg')\n",
    "#Exibindo os tipo de variáveis\n",
    "#Tudo que recebemos do input é do tipo string\n",
    "print (type(nome),type(idade),type(peso))\n",
    "\n"
   ]
  },
  {
   "cell_type": "markdown",
   "metadata": {},
   "source": [
    "Aula 23/02/2024 - Operações com variáveis"
   ]
  },
  {
   "cell_type": "code",
   "execution_count": null,
   "metadata": {},
   "outputs": [
    {
     "name": "stdout",
     "output_type": "stream",
     "text": [
      "137.2\n"
     ]
    }
   ],
   "source": [
    "#Receber o primeiro número\n",
    "numero1 = float(input('Digite o 1° número'))\n",
    "#Receber o segundo número\n",
    "numero2 = float(input('Digite o 2° número'))\n",
    "#Recebe o terceiro número\n",
    "numero3 = float(input(\"Digite o 3° número\"))\n",
    "#Soma o primeiro + o segundo número + o terceiro número\n",
    "soma = numero1 + numero2 + numero3 \n",
    "#Exibe o resultado da soma\n",
    "print (soma)"
   ]
  },
  {
   "cell_type": "code",
   "execution_count": null,
   "metadata": {},
   "outputs": [
    {
     "name": "stdout",
     "output_type": "stream",
     "text": [
      "35.75\n"
     ]
    }
   ],
   "source": [
    "numero1 = float(input('Digite o 1° número'))\n",
    "numero2 = float(input('Digite o 2° número'))\n",
    "soma = numero1 * numero2\n",
    "print (soma)"
   ]
  },
  {
   "cell_type": "code",
   "execution_count": 1,
   "metadata": {},
   "outputs": [
    {
     "name": "stdout",
     "output_type": "stream",
     "text": [
      "35.0\n"
     ]
    }
   ],
   "source": [
    "\n",
    "soma = float(input('Digite o valor')) - float(input('Digite o desconto'))\n",
    "print (soma)"
   ]
  },
  {
   "cell_type": "code",
   "execution_count": null,
   "metadata": {},
   "outputs": [
    {
     "name": "stdout",
     "output_type": "stream",
     "text": [
      "3400.0\n"
     ]
    }
   ],
   "source": [
    "preco = float(input('Digite o valor'))\n",
    "desconto = float(input('Digite o desconto'))\n",
    "preco = preco - desconto\n",
    "print (preco)"
   ]
  },
  {
   "cell_type": "code",
   "execution_count": null,
   "metadata": {},
   "outputs": [
    {
     "name": "stdout",
     "output_type": "stream",
     "text": [
      "6.0\n",
      "36.0\n",
      "720.0\n",
      "O valor final é 720.0\n"
     ]
    }
   ],
   "source": [
    "numero = 90 / 15\n",
    "print (numero)\n",
    "numero = numero ** 2\n",
    "print (numero)\n",
    "numero = numero * (50 - 30)\n",
    "print (numero)\n",
    "print (f'O valor final é {numero}')"
   ]
  },
  {
   "cell_type": "code",
   "execution_count": null,
   "metadata": {},
   "outputs": [
    {
     "name": "stdout",
     "output_type": "stream",
     "text": [
      "12000\n"
     ]
    }
   ],
   "source": [
    "#Qual resultado a gente quer?\n",
    "#Passo 1: Descobrir quantas horas de trabalho vamos usar no projeto\n",
    "horas = 8\n",
    "#Passo 2: Pegar o custo de uma hora trabalho e multiplicar pela quantidade do passo 1\n",
    "Umahora = 100\n",
    "Diasdeprojeto = 15\n",
    "#Passo 3:Exibir o resultado final do custo do projeto\n",
    "resultado = horas * Umahora * Diasdeprojeto\n",
    "print (resultado)"
   ]
  },
  {
   "cell_type": "code",
   "execution_count": null,
   "metadata": {},
   "outputs": [
    {
     "name": "stdout",
     "output_type": "stream",
     "text": [
      "24000.0\n"
     ]
    }
   ],
   "source": [
    "#Passo 1: Descobrir quantas horas de trabalho vamos usar no projeto\n",
    "horas = float(input('Insira a quantidade de horas trabalhadas por dia'))\n",
    "#Passo 2: Pegar o custo de uma hora trabalho e multiplicar pela quantidade do passo 1\n",
    "Umahora = float(input('Insira o preço de cada hora trabalhada'))\n",
    "Diasdeprojeto = float(input('Insira quantos dias levará para completar o projeto'))\n",
    "#Passo 3:Exibir o resultado final do custo do projeto\n",
    "resultado = horas * Umahora * Diasdeprojeto\n",
    "print (resultado)"
   ]
  },
  {
   "cell_type": "markdown",
   "metadata": {},
   "source": [
    "Aula 29/02/2024 - Operadores Relacionais e Estrutura Condicional"
   ]
  },
  {
   "cell_type": "code",
   "execution_count": null,
   "metadata": {},
   "outputs": [
    {
     "name": "stdout",
     "output_type": "stream",
     "text": [
      "a > b? False\n",
      "a < b? True\n",
      "a == b? False\n",
      "a != b? True\n",
      "a > 2? False\n",
      "a >= 2? False\n"
     ]
    }
   ],
   "source": [
    "a = 2\n",
    "b = 3\n",
    "print (f'a > b? {a > b}')\n",
    "print (f'a < b? {a < b}')\n",
    "print (f'a == b? {a == b}')\n",
    "print (f'a != b? {a != b}')\n",
    "print (f'a > 2? {a > b}')\n",
    "print (f'a >= 2? {a >= b}')\n"
   ]
  },
  {
   "cell_type": "code",
   "execution_count": null,
   "metadata": {},
   "outputs": [],
   "source": [
    "tenho_ingresso = True\n",
    "if tenho_ingresso == True :\n",
    "    print('Posso entrar') \n",
    "    print ('Fim')"
   ]
  },
  {
   "cell_type": "code",
   "execution_count": null,
   "metadata": {},
   "outputs": [
    {
     "name": "stdout",
     "output_type": "stream",
     "text": [
      "Maior de idade\n",
      "Fim\n"
     ]
    }
   ],
   "source": [
    "# Passo 1: Receber idade\n",
    "idade = int(input('Digite aqui sua idade:'))\n",
    "#Passo 2: Verificar se é maior ou igual a 18\n",
    "if idade >= 18 :\n",
    "    #Passo 3:Se for menor de 18 exibir \"menor de idade\"\n",
    "        print('Maior de idade')\n",
    "        print ('Fim')\n",
    "if idade <= 18 :\n",
    "        print ('Menor de idade')\n",
    "        print ('Fim')"
   ]
  },
  {
   "cell_type": "code",
   "execution_count": 1,
   "metadata": {},
   "outputs": [],
   "source": [
    "tenho_ingresso = True\n",
    "if tenho_ingresso == True :\n",
    "    print ('Posso entrar')\n",
    "    print ('*********')\n",
    "    print ('*********')\n",
    "else :\n",
    "    print ('Vá comprar')\n",
    "print('fim')"
   ]
  },
  {
   "cell_type": "markdown",
   "metadata": {},
   "source": [
    "01/03/2024 - Operadores Lógicos e Estrutura Condicional"
   ]
  },
  {
   "cell_type": "code",
   "execution_count": 4,
   "metadata": {},
   "outputs": [
    {
     "name": "stdout",
     "output_type": "stream",
     "text": [
      "False\n",
      "False\n",
      "True\n",
      "True\n"
     ]
    }
   ],
   "source": [
    "#Criar três variáveis \n",
    "a = 2\n",
    "b = 3\n",
    "c = 5\n",
    "#       False    e    False\n",
    "print ((a > 2 ) and (b < 2))\n",
    "#       False  Ou   False\n",
    "print ((a > 2) or (b < 2))\n",
    "#       False  ou   True \n",
    "print ((a > 2) or (b > 2))\n",
    "#-=-=-=-=-=-=-=-=-=-=-=-=-=-=-=-=-=-=-=-=-=-=-=-=-=\n",
    "idade = 18\n",
    "\n",
    "print (idade > 18 or idade == 18)"
   ]
  },
  {
   "cell_type": "code",
   "execution_count": 30,
   "metadata": {},
   "outputs": [
    {
     "name": "stdout",
     "output_type": "stream",
     "text": [
      "Peso ideal\n"
     ]
    }
   ],
   "source": [
    "altura =float(input('Digite sua altura'))\n",
    "peso = float(input('Digite seu peso'))\n",
    "imc = peso / (altura**2)\n",
    "if imc<18.5:\n",
    "    print ('Abaixo do peso ideal')\n",
    "elif (imc>= 18.6) and (imc <= 24.9):\n",
    "    print ('Peso ideal')\n",
    "elif imc > 25 and imc <= 29.9:\n",
    " print ('Sobrepeso')\n",
    "else:\n",
    "    print ('Obesidade')"
   ]
  },
  {
   "cell_type": "code",
   "execution_count": 35,
   "metadata": {},
   "outputs": [
    {
     "name": "stdout",
     "output_type": "stream",
     "text": [
      "Triângulo escaleno\n"
     ]
    }
   ],
   "source": [
    "lado1 = input ('Insira a medida de um lado do triângulo')\n",
    "lado2 =  input ('Insira a medida de outro lado do triângulo')\n",
    "lado3 = input ('Insira a medida de outro lado do triângulo')\n",
    "if (lado1 == lado2) and (lado2 == lado3):\n",
    "    print ('Triângulo equilátero')\n",
    "elif (lado1 != lado2) and (lado2 != lado3):\n",
    "    print ('Triângulo escaleno')\n",
    "else:\n",
    "    print ('Triângulo isósceles')"
   ]
  },
  {
   "cell_type": "code",
   "execution_count": 36,
   "metadata": {},
   "outputs": [
    {
     "name": "stdout",
     "output_type": "stream",
     "text": [
      "A letra d é uma consoante\n"
     ]
    }
   ],
   "source": [
    "letra = input('Digite uma letra')\n",
    "if letra == 'a' or letra == 'e' or letra =='i' or letra == 'o' or letra == 'u':\n",
    "    print (f'A letra {letra} é uma vogal')\n",
    "elif letra == '1' or letra =='2' or letra == '3':\n",
    "    print (f'O caracter {letra} é um número')\n",
    "else :\n",
    "    print (f'A letra {letra} é uma consoante')"
   ]
  },
  {
   "cell_type": "markdown",
   "metadata": {},
   "source": [
    "08/03/2024 - Laços de Repetição"
   ]
  },
  {
   "cell_type": "code",
   "execution_count": 5,
   "metadata": {},
   "outputs": [
    {
     "name": "stdout",
     "output_type": "stream",
     "text": [
      "Eu vou prestar atenção na aula🤓\n",
      "Eu vou prestar atenção na aula🤓\n",
      "Eu vou prestar atenção na aula🤓\n",
      "Eu vou prestar atenção na aula🤓\n",
      "Eu vou prestar atenção na aula🤓\n",
      "Eu vou prestar atenção na aula🤓\n",
      "Eu vou prestar atenção na aula🤓\n",
      "Eu vou prestar atenção na aula🤓\n",
      "Eu vou prestar atenção na aula🤓\n",
      "Eu vou prestar atenção na aula🤓\n",
      "FIM\n"
     ]
    }
   ],
   "source": [
    "x = 1\n",
    "while x <= 10 :\n",
    "    print ('Eu vou prestar atenção na aula🤓')\n",
    "   #O código abaixo faz com que vá adicionando mais um x até que se somem a quantidade descrita acima (x<=10) \n",
    "    x = x + 1\n",
    "print ('FIM')"
   ]
  },
  {
   "cell_type": "code",
   "execution_count": 8,
   "metadata": {},
   "outputs": [
    {
     "name": "stdout",
     "output_type": "stream",
     "text": [
      "Feliz ano novo!🎇✨\n"
     ]
    }
   ],
   "source": [
    "#Contagem regressiva\n",
    "x = 10\n",
    "while x >= 0:\n",
    "    #O código abaixo faz com que vá asubtraindo mais um x até que se encontre a quantidade descrita acima (x>=0) \n",
    "    x = x-1\n",
    "    # Quando o X chegar na quantidade desejada, a programação irá imprimir a mensagem abaixo\n",
    "print ('Feliz ano novo!🎇✨')"
   ]
  },
  {
   "cell_type": "code",
   "execution_count": 10,
   "metadata": {},
   "outputs": [
    {
     "name": "stdout",
     "output_type": "stream",
     "text": [
      "10\n",
      "9\n",
      "8\n",
      "7\n",
      "6\n",
      "5\n",
      "4\n",
      "3\n",
      "2\n",
      "1\n",
      "0\n",
      "Feliz ano novo!🎇✨\n"
     ]
    }
   ],
   "source": [
    "# Mesma programação porém com timer\n",
    "import time #importando uma biblioteca de tempo \n",
    "x = 10 \n",
    "while x >=0:\n",
    "    print (x)\n",
    "    time.sleep(1.0) # dando uma pausa de um segundo a cada execução do código acima \n",
    "    x = x - 1\n",
    "print ('Feliz ano novo!🎇✨')"
   ]
  },
  {
   "cell_type": "code",
   "execution_count": 11,
   "metadata": {},
   "outputs": [
    {
     "name": "stdout",
     "output_type": "stream",
     "text": [
      "Seja bem vindo, Maria Eduarda!\n",
      "Seja bem vindo, Mariana!\n",
      "Seja bem vindo, Nathalia!\n",
      "Seja bem vindo, Natalie!\n",
      "Seja bem vindo, sair!\n"
     ]
    }
   ],
   "source": [
    "#Quer receber o nome do usuário\n",
    "texto = ''\n",
    "#A programação continuará pedindo o nome até o usuário digitar \"sair\"\n",
    "while texto != 'sair':\n",
    "    texto = input('Digite seu nome aqui (\"sair\" para terminar)')\n",
    "    #Quando o usuário digitar \"sair\", a programação imprimirá esta mensagem:\n",
    "    print (f'Seja bem vindo, {texto}!')"
   ]
  },
  {
   "cell_type": "code",
   "execution_count": 22,
   "metadata": {},
   "outputs": [
    {
     "name": "stdout",
     "output_type": "stream",
     "text": [
      "Você entrou na rede\n"
     ]
    }
   ],
   "source": [
    "#É possivel interromper a repetição com a palavra BREAK\n",
    "senha_senai = \"12345\"\n",
    "#É possível colocar um número de tentativas, quando for ultrapassado mostrar uma mensagem\n",
    "numero_de_tentativa = 3\n",
    "while True :\n",
    "    #Se ele digitar a senha correta ele pode entrar na rede, se o usuário digitar desisto a programação termina de executar\n",
    "    senha = input ('Qual é a senha? (Desisto) para sair ')\n",
    "    if senha == senha_senai:\n",
    "        print ('Você entrou na rede')\n",
    "        break\n",
    "    elif senha == 'Desisto':\n",
    "        break\n",
    "    else:\n",
    "        #Este código faz com que vá acrescentando um a cada tentativa que o usuário fizer \n",
    "        numero_de_tentativa = numero_de_tentativa + 1\n",
    "        if numero_de_tentativa == 3:\n",
    "            print ('Número de tentativas esgotado')\n",
    "            break\n",
    "\n"
   ]
  }
 ],
 "metadata": {
  "kernelspec": {
   "display_name": "Python 3",
   "language": "python",
   "name": "python3"
  },
  "language_info": {
   "codemirror_mode": {
    "name": "ipython",
    "version": 3
   },
   "file_extension": ".py",
   "mimetype": "text/x-python",
   "name": "python",
   "nbconvert_exporter": "python",
   "pygments_lexer": "ipython3",
   "version": "3.12.2"
  }
 },
 "nbformat": 4,
 "nbformat_minor": 2
}
