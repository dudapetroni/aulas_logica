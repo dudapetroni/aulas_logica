{
 "cells": [
  {
   "cell_type": "markdown",
   "metadata": {},
   "source": [
    "    Exercício 1: Exibir mensagem 💌"
   ]
  },
  {
   "cell_type": "code",
   "execution_count": 1,
   "metadata": {},
   "outputs": [
    {
     "name": "stdout",
     "output_type": "stream",
     "text": [
      "Seja bem-vindo(a) ao SESI 🚩😎\n"
     ]
    }
   ],
   "source": [
    "print ('Seja bem-vindo(a) ao SESI 🚩😎')"
   ]
  },
  {
   "cell_type": "code",
   "execution_count": 2,
   "metadata": {},
   "outputs": [
    {
     "name": "stdout",
     "output_type": "stream",
     "text": [
      "O número informado foi 3.0\n"
     ]
    }
   ],
   "source": [
    "numero = float(input('Digite um número'))\n",
    "print (f'O número informado foi {numero}')"
   ]
  },
  {
   "cell_type": "code",
   "execution_count": 4,
   "metadata": {},
   "outputs": [
    {
     "name": "stdout",
     "output_type": "stream",
     "text": [
      "Você digitou os números 10 e 2. A divisão dos números é 5.0\n"
     ]
    }
   ],
   "source": [
    "numero1 = int(input('Digite um número inteiro'))\n",
    "numero2 = int(input('Digite outro número inteiro'))\n",
    "print (f'Você digitou os números {numero1} e {numero2}. A divisão dos números é {numero1 / numero2}')"
   ]
  },
  {
   "cell_type": "code",
   "execution_count": 6,
   "metadata": {},
   "outputs": [
    {
     "name": "stdout",
     "output_type": "stream",
     "text": [
      "Você ganha R$ 1500.00\n"
     ]
    }
   ],
   "source": [
    "horas = float(input('Digite aqui a quantidades de horas que você trabalha por mês'))\n",
    "porMes = float(input('Digite aqui quanto você ganha por hora'))\n",
    "print (f'Você ganha R${horas*porMes: .2f}')"
   ]
  },
  {
   "cell_type": "code",
   "execution_count": 7,
   "metadata": {},
   "outputs": [
    {
     "name": "stdout",
     "output_type": "stream",
     "text": [
      "Sexo feminino 🚺\n"
     ]
    }
   ],
   "source": [
    "letra = input('Digite [F] para feminino e [M] para masculino')\n",
    "if letra == \"F\":\n",
    "    print ('Sexo feminino 🚺')\n",
    "elif letra == 'M':\n",
    "    print ('Sexo masculino 🚹')\n",
    "else:\n",
    "    print ('Sexo não identificado ❓')"
   ]
  },
  {
   "cell_type": "markdown",
   "metadata": {},
   "source": [
    "    6. Tendo como dado de entrada a altura (h) de uma pessoa e o sexo, construa um algoritmo\n",
    "    que calcule seu peso ideal."
   ]
  },
  {
   "cell_type": "code",
   "execution_count": 20,
   "metadata": {},
   "outputs": [
    {
     "name": "stdout",
     "output_type": "stream",
     "text": [
      "De acordo com sua altura seu peso ideal é  54.66🏋️‍♀️\n"
     ]
    }
   ],
   "source": [
    "sexo = input('Digite aqui [F] para feminino ou [M] para masculino')\n",
    "altura = float(input('Digite aqui sua altura'))\n",
    "if sexo == 'F':\n",
    "    peso_idealF = ((62.1 * altura)-44.7)\n",
    "    print (f'De acordo com sua altura seu peso ideal é {peso_idealF: .2f}🏋️‍♀️')\n",
    "else: \n",
    "    peso_idealM = ((72.7 * altura)-58)\n",
    "    print (f'De acordo com sua altura seu peso ideal é {peso_idealF: .2f}🏋️‍♂️')"
   ]
  },
  {
   "cell_type": "markdown",
   "metadata": {},
   "source": [
    "    7. Faça um Programa que pergunte quanto você ganha por hora e o número de horas\n",
    "    trabalhadas no mês. Depois calcule os descontos"
   ]
  },
  {
   "cell_type": "code",
   "execution_count": 11,
   "metadata": {},
   "outputs": [
    {
     "name": "stdout",
     "output_type": "stream",
     "text": [
      "Seu salário bruto é R$3000.0, mas você paga R$ 330.00 para o imposto de renda, R$ 240.00 para o INSS e R$ 150.00 para o sindicato, então o seu salário líquido é de R$2280.0💵\n"
     ]
    }
   ],
   "source": [
    "horas = float(input('Digite aqui a quantidades de horas que você trabalha por mês'))\n",
    "porMes = float(input('Digite aqui quanto você ganha por hora'))\n",
    "salahrio_semDesconto = horas*porMes \n",
    "desconto_ImpostodeRenda = (11/100)*salahrio_semDesconto\n",
    "desconto_INSS = (8/100)*salahrio_semDesconto\n",
    "desconto_Sindicato = (5/100)*salahrio_semDesconto\n",
    "salahrio_final = (((salahrio_semDesconto - desconto_ImpostodeRenda) - desconto_INSS)-desconto_Sindicato)\n",
    "print (f'Seu salário bruto é R${salahrio_semDesconto}, mas você paga R${desconto_ImpostodeRenda: .2f} para o imposto de renda, R${desconto_INSS: .2f} para o INSS e R${desconto_Sindicato: .2f} para o sindicato, então o seu salário líquido é de R${salahrio_final}💵')\n"
   ]
  },
  {
   "cell_type": "markdown",
   "metadata": {},
   "source": [
    "    8. Faça uma função que peça um valor e mostre na tela se o valor é positivo ou negativo."
   ]
  },
  {
   "cell_type": "code",
   "execution_count": 12,
   "metadata": {},
   "outputs": [
    {
     "name": "stdout",
     "output_type": "stream",
     "text": [
      "O valor 8.0 é positivo ➕\n"
     ]
    }
   ],
   "source": [
    "valor = float(input('Digite um valor'))\n",
    "if valor < 0:\n",
    "    print(f'O valor {valo} é negativo ➖')\n",
    "else:\n",
    "    print (f'O valor {valor} é positivo ➕')"
   ]
  },
  {
   "cell_type": "markdown",
   "metadata": {},
   "source": [
    "    9. Faça uma função que imprima na tela apenas os números ímpares entre 1 e 50."
   ]
  },
  {
   "cell_type": "code",
   "execution_count": 14,
   "metadata": {},
   "outputs": [
    {
     "name": "stdout",
     "output_type": "stream",
     "text": [
      "1\n",
      "3\n",
      "5\n",
      "7\n",
      "9\n",
      "11\n",
      "13\n",
      "15\n",
      "17\n",
      "19\n",
      "21\n",
      "23\n",
      "25\n",
      "27\n",
      "29\n",
      "31\n",
      "33\n",
      "35\n",
      "37\n",
      "39\n",
      "41\n",
      "43\n",
      "45\n",
      "47\n",
      "49\n"
     ]
    }
   ],
   "source": [
    "for x in range(1,50,2):\n",
    "    print (x)"
   ]
  },
  {
   "cell_type": "markdown",
   "metadata": {},
   "source": [
    "    10. Faça uma função que receba dois números inteiros e gere os números inteiros que estão\n",
    "    no intervalo compreendido por eles."
   ]
  },
  {
   "cell_type": "code",
   "execution_count": 15,
   "metadata": {},
   "outputs": [
    {
     "name": "stdout",
     "output_type": "stream",
     "text": [
      "5\n",
      "6\n",
      "7\n",
      "8\n",
      "9\n",
      "10\n",
      "11\n",
      "12\n",
      "13\n",
      "14\n"
     ]
    }
   ],
   "source": [
    "numero1 = int(input('Digite um número inteiro'))\n",
    "numero2 = int(input('Digite outro número inteiro'))\n",
    "for x in range(numero1,numero2):\n",
    "    print (x)"
   ]
  },
  {
   "cell_type": "markdown",
   "metadata": {},
   "source": [
    "    11. Faça uma função que peça um número positivo e em seguida mostre este número invertido.\n",
    "    Exemplo: 12376489 => 98467321"
   ]
  },
  {
   "cell_type": "code",
   "execution_count": 31,
   "metadata": {},
   "outputs": [
    {
     "name": "stdout",
     "output_type": "stream",
     "text": [
      "9865\n"
     ]
    }
   ],
   "source": [
    "numero = input('Digite um número')\n",
    "numero1 = \"\"\n",
    "for x in numero:\n",
    "    numero1 = x + numero1\n",
    "print(numero1)\n"
   ]
  },
  {
   "cell_type": "markdown",
   "metadata": {},
   "source": [
    "    12. Faça um Programa que leia um vetor A com 5 números inteiros, calcule e mostre a soma\n",
    "    dos quadrados dos elementos do vetor."
   ]
  },
  {
   "cell_type": "code",
   "execution_count": 26,
   "metadata": {},
   "outputs": [
    {
     "name": "stdout",
     "output_type": "stream",
     "text": [
      "[9, 16, 25, 36, 49]\n"
     ]
    }
   ],
   "source": [
    "vetor_A = []\n",
    "def Calculo():\n",
    "    numero = int(input('Digite um número inteiro'))\n",
    "    aoQuadrado = numero**2\n",
    "    vetor_A.append(aoQuadrado)\n",
    "Calculo()\n",
    "Calculo()\n",
    "Calculo()\n",
    "Calculo()\n",
    "Calculo()\n",
    "print(vetor_A)"
   ]
  },
  {
   "cell_type": "markdown",
   "metadata": {},
   "source": [
    "    13. Faça um Programa que leia 8 números inteiros e armazene-os num vetor. Armazene os\n",
    "    números pares no vetor PAR e os números IMPARES no vetor impar. Imprima os três\n",
    "    vetores."
   ]
  },
  {
   "cell_type": "code",
   "execution_count": 34,
   "metadata": {},
   "outputs": [
    {
     "name": "stdout",
     "output_type": "stream",
     "text": [
      "[3, 4, 7, 2, 10, 44, 56, 78]\n",
      "[4, 2, 10, 44, 56, 78]\n",
      "[3, 7]\n"
     ]
    }
   ],
   "source": [
    "numeros = []\n",
    "par = []\n",
    "impar = []\n",
    "for x in range(8):\n",
    "    numero = int(input('Digite um número inteiro'))\n",
    "    numeros.append(numero)\n",
    "    if (numero % 2) == 0:\n",
    "        par.append(numero)\n",
    "    elif (numero %2) > 0:\n",
    "        impar.append(numero)\n",
    "print (numeros)\n",
    "print (par)\n",
    "print (impar)"
   ]
  },
  {
   "cell_type": "markdown",
   "metadata": {},
   "source": [
    "    14. Numa eleição existem três candidatos. Faça um programa que peça o número total de\n",
    "    eleitores. Peça para cada eleitor votar e ao final mostrar o número de votos de cada\n",
    "    candidato."
   ]
  },
  {
   "cell_type": "code",
   "execution_count": null,
   "metadata": {},
   "outputs": [],
   "source": [
    "allalal"
   ]
  },
  {
   "cell_type": "markdown",
   "metadata": {},
   "source": [
    "    15. Faça um Programa que em uma função receba 4 notas bimestrais e mostre a média."
   ]
  },
  {
   "cell_type": "code",
   "execution_count": 1,
   "metadata": {},
   "outputs": [
    {
     "name": "stdout",
     "output_type": "stream",
     "text": [
      "Sua média é 7.25\n"
     ]
    }
   ],
   "source": [
    "def Media():\n",
    "    nota1 = float(input('Digite sua nota do primeiro bimestre'))\n",
    "    nota2 = float(input('Digite sua nota do segundo bimestre'))\n",
    "    nota3 = float(input('Digite sua nota do terceiro bimestre'))\n",
    "    nota4 = float(input('Digite sua nota do quarto bimestre'))\n",
    "    media_total = (nota1 + nota2 + nota3 + nota4) / 4\n",
    "    print (f'Sua média é {media_total}')\n",
    "Media()"
   ]
  }
 ],
 "metadata": {
  "kernelspec": {
   "display_name": "Python 3",
   "language": "python",
   "name": "python3"
  },
  "language_info": {
   "codemirror_mode": {
    "name": "ipython",
    "version": 3
   },
   "file_extension": ".py",
   "mimetype": "text/x-python",
   "name": "python",
   "nbconvert_exporter": "python",
   "pygments_lexer": "ipython3",
   "version": "3.12.3"
  }
 },
 "nbformat": 4,
 "nbformat_minor": 2
}
