{
 "cells": [
  {
   "cell_type": "markdown",
   "metadata": {},
   "source": [
    "1. Crie uma lista de filmes com 7 filmes a sua escolha, e faça as seguintes operações com ela:\n",
    "• Exiba apenas o primeiro o filme da lista\n",
    "• Exiba o filme da posição 4\n",
    "• Substitua o filme da última posição e exiba a lista\n",
    "• Insira um novo filme no final da lista e exiba a lista\n",
    "• Insira um novo filme na posição 5 e exiba a lista\n",
    "• Exclua o primeiro filme e exiba a lista\n",
    "• Exclua o último filme e exiba a lista\n",
    "• Exiba os 3 primeiros filmes da lista\n",
    "• Exiba os 4 últimos filmes da lista\n",
    "• Exiba a quantidade de filmes atualmente na lista\n",
    "• Ordene os filmes em ordem decrescente e exiba-os"
   ]
  },
  {
   "cell_type": "code",
   "execution_count": 12,
   "metadata": {},
   "outputs": [
    {
     "name": "stdout",
     "output_type": "stream",
     "text": [
      "['Rei Leão', 'Avatar', 'Alvin e os esquilos', 'Toy Story', 'Procurando Nemo', 'Barbie', 'Cinderela']\n",
      "• Exiba apenas o primeiro o filme da lista\n",
      "Rei Leão\n",
      "• Exiba o filme da posição 4\n",
      "Toy Story\n",
      "• Substitua o filme da última posição e exiba a lista\n",
      "['Rei Leão', 'Avatar', 'Alvin e os esquilos', 'Toy Story', 'Procurando Nemo', 'Barbie', 'Madagascar']\n",
      "• Insira um novo filme na posição 5 e exiba a lista\n",
      "['Rei Leão', 'Avatar', 'Alvin e os esquilos', 'Toy Story', 'Kung Fu Panda', 'Procurando Nemo', 'Barbie', 'Madagascar']\n",
      "• Exclua o primeiro filme e exiba a lista\n",
      "['Avatar', 'Alvin e os esquilos', 'Toy Story', 'Kung Fu Panda', 'Procurando Nemo', 'Barbie', 'Madagascar']\n",
      "• Exclua o último filme e exiba a lista\n",
      "['Avatar', 'Alvin e os esquilos', 'Toy Story', 'Kung Fu Panda', 'Procurando Nemo', 'Barbie']\n",
      "• Exiba os 3 primeiros filmes da lista\n",
      "['Avatar', 'Alvin e os esquilos', 'Toy Story']\n",
      "• Exiba os 4 últimos filmes da lista\n",
      "['Toy Story', 'Kung Fu Panda', 'Procurando Nemo', 'Barbie']\n",
      "• Exiba a quantidade de filmes atualmente na lista\n",
      "6\n",
      "• Ordene os filmes em ordem decrescente e exiba-os\n",
      "['Barbie', 'Procurando Nemo', 'Kung Fu Panda', 'Toy Story', 'Alvin e os esquilos', 'Avatar']\n"
     ]
    }
   ],
   "source": [
    "filmes = ['Rei Leão','Avatar','Alvin e os esquilos','Toy Story','Procurando Nemo','Barbie','Cinderela']\n",
    "print (filmes)\n",
    "print ('• Exiba apenas o primeiro o filme da lista')\n",
    "print (filmes[0])\n",
    "print ('• Exiba o filme da posição 4')\n",
    "print (filmes[3])\n",
    "print ('• Substitua o filme da última posição e exiba a lista')\n",
    "filmes[6] = \"Madagascar\"\n",
    "print (filmes)\n",
    "• Insira um novo filme no final da lista e exiba a lista\n",
    "filmes.append('Branca de Neve')\n",
    "print ('• Insira um novo filme na posição 5 e exiba a lista')\n",
    "filmes.insert(4,'Kung Fu Panda')\n",
    "print(filmes)\n",
    "print ('• Exclua o primeiro filme e exiba a lista')\n",
    "del filmes[0]\n",
    "print (filmes)\n",
    "print ('• Exclua o último filme e exiba a lista')\n",
    "del filmes[6]\n",
    "print (filmes)\n",
    "print ('• Exiba os 3 primeiros filmes da lista')\n",
    "print (filmes[0:3])\n",
    "print ('• Exiba os 4 últimos filmes da lista')\n",
    "print (filmes[2:])\n",
    "print ('• Exiba a quantidade de filmes atualmente na lista')\n",
    "print (len(filmes))\n",
    "print ('• Ordene os filmes em ordem decrescente e exiba-os')\n",
    "filmes.reverse()\n",
    "print(filmes)"
   ]
  },
  {
   "cell_type": "markdown",
   "metadata": {},
   "source": [
    "2. Crie uma lista com os 20 times do campeonato brasileiro de futebol\n",
    "• Exiba o primeiro time da lista como campeão\n",
    "• Exiba os 4 primeiros times como que irão jogar a libertadores\n",
    "• Exiba os 4 últimos times como os que estão rebaixados para a série B"
   ]
  },
  {
   "cell_type": "code",
   "execution_count": 15,
   "metadata": {},
   "outputs": [
    {
     "name": "stdout",
     "output_type": "stream",
     "text": [
      "Atletico Mineiro É o campeão\n",
      "['Atletico Mineiro', 'Bahia', 'Botafogo'] irão jogar na libertadores\n",
      "['Red Bull Bragantino', 'São Paulo', 'Vasco da Gama', 'Vitória'] estão rebeixados para a série B\n"
     ]
    }
   ],
   "source": [
    "times = ['Atletico Mineiro','Bahia','Botafogo','Corinthias','Criciúma','Cruzeiro','Cuiabá','Flamengo','Fluminense','Fortaleza','Grêmio','Internacional','Juventude','Palmeiras','Red Bull Bragantino','São Paulo','Vasco da Gama','Vitória']\n",
    "print (f'{times[0]} É o campeão')\n",
    "print (f'{times[0:3]} irão jogar na libertadores')\n",
    "print (f'{times[14:]} estão rebeixados para a série B')"
   ]
  },
  {
   "cell_type": "markdown",
   "metadata": {},
   "source": [
    "3. Crie um programa que receba do usuário através do input 6 comidas e refaça todos\n",
    "os itens do exercício 1"
   ]
  },
  {
   "cell_type": "code",
   "execution_count": 18,
   "metadata": {},
   "outputs": [
    {
     "name": "stdout",
     "output_type": "stream",
     "text": [
      "camarao\n",
      "bolacha\n",
      "['camarao', 'abobrinh', 'pizza', 'bolacha', 'bolo', 'Macarrão']\n",
      "['camarao', 'abobrinh', 'pizza', 'bolacha', 'bolo', 'Macarrão', 'Lasanha']\n",
      "['camarao', 'abobrinh', 'pizza', 'bolacha', 'bolo', 'Miojo', 'Macarrão', 'Lasanha']\n",
      "['abobrinh', 'pizza', 'bolacha', 'bolo', 'Miojo', 'Macarrão', 'Lasanha']\n",
      "['abobrinh', 'pizza', 'bolacha']\n",
      "['Kung Fu Panda', 'Toy Story', 'Alvin e os esquilos', 'Avatar']\n",
      "6\n",
      "['abobrinh', 'pizza', 'bolacha', 'bolo', 'Miojo', 'Lasanha']\n"
     ]
    }
   ],
   "source": [
    "comida1 = input('Digite uma comida')\n",
    "comida2 = input('Digite uma comida')\n",
    "comida3 = input('Digite uma comida')\n",
    "comida4 = input('Digite uma comida')\n",
    "comida5 = input('Digite uma comida')\n",
    "comida6 = input('Digite uma comida')\n",
    "comidas = [comida1,comida2,comida3,comida4,comida5,comida6]\n",
    "#• Exiba apenas o primeiro o filme da lista\n",
    "print (comidas[0])\n",
    "#• Exiba o filme da posição 4\n",
    "print (comidas[3])\n",
    "#• Substitua o filme da última posição e exiba a lista\n",
    "comidas[5] = \"Macarrão\"\n",
    "print (comidas)\n",
    "#• Insira um novo filme no final da lista e exiba a lista\n",
    "comidas.append('Lasanha')\n",
    "print(comidas)\n",
    "#• Insira um novo filme na posição 5 e exiba a lista\n",
    "comidas.insert(5,'Miojo')\n",
    "print(comidas)\n",
    "#• Exclua o primeiro filme e exiba a lista\n",
    "del comidas[0]\n",
    "print (comidas)\n",
    "#• Exclua o último filme e exiba a lista\n",
    "del comidas[5]\n",
    "#• Exiba os 3 primeiros filmes da lista\n",
    "print (comidas[0:3])\n",
    "#• Exiba os 4 últimos filmes da lista\n",
    "print (filmes[2:])\n",
    "#• Exiba a quantidade de filmes atualmente na lista\n",
    "print (len(comidas))\n",
    "#• Ordene os filmes em ordem decrescente e exiba-os\n",
    "comidas.reverse\n",
    "print(comidas)\n"
   ]
  },
  {
   "cell_type": "code",
   "execution_count": null,
   "metadata": {},
   "outputs": [],
   "source": []
  },
  {
   "cell_type": "code",
   "execution_count": null,
   "metadata": {},
   "outputs": [],
   "source": []
  }
 ],
 "metadata": {
  "kernelspec": {
   "display_name": "Python 3",
   "language": "python",
   "name": "python3"
  },
  "language_info": {
   "codemirror_mode": {
    "name": "ipython",
    "version": 3
   },
   "file_extension": ".py",
   "mimetype": "text/x-python",
   "name": "python",
   "nbconvert_exporter": "python",
   "pygments_lexer": "ipython3",
   "version": "3.12.3"
  }
 },
 "nbformat": 4,
 "nbformat_minor": 2
}
