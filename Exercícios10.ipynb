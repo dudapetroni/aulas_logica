{
 "cells": [
  {
   "cell_type": "markdown",
   "metadata": {},
   "source": [
    "    1. Escreva uma função que utilize uma variável global para contar o número de vezes que foi \n",
    "\n",
    "    chamada. A função deve retornar o número atual de chamadas. "
   ]
  },
  {
   "cell_type": "code",
   "execution_count": 29,
   "metadata": {},
   "outputs": [
    {
     "name": "stdout",
     "output_type": "stream",
     "text": [
      "1\n",
      "2\n"
     ]
    }
   ],
   "source": [
    "vezes = 0\n",
    "def Contagem():\n",
    "    global vezes\n",
    "    vezes = vezes + 1\n",
    "    return (vezes)\n",
    "print(Contagem())\n",
    "print(Contagem())\n"
   ]
  },
  {
   "cell_type": "markdown",
   "metadata": {},
   "source": [
    "    2. Crie um algoritmo que receba em variável global o valor atual do dólar e do euro, crie uma \n",
    "\n",
    "    função que receba o valor a ser convertido e imprima a conversão em dólar e em euro "
   ]
  },
  {
   "cell_type": "code",
   "execution_count": 44,
   "metadata": {},
   "outputs": [
    {
     "name": "stdout",
     "output_type": "stream",
     "text": [
      "A quantidade convertida em dólares fica $58.48 e em euro fica $55.05\n"
     ]
    }
   ],
   "source": [
    "dolar = float(input('Digite o valor atual do dolár'))\n",
    "euro = float(input('Digite o valor do euro atual'))\n",
    "reais = float(input('Digite o valor que vai ser convertido'))\n",
    "def Converssaum():\n",
    "    global dolar,euro\n",
    "    print(f'A quantidade convertida em dólares fica ${reais / dolar:.2f} e em euro fica ${reais / euro:.2f}')\n",
    "\n",
    "Converssaum()"
   ]
  },
  {
   "cell_type": "markdown",
   "metadata": {},
   "source": [
    "    3. Escreva uma função que recebe um nome e o adicione a uma lista de nomes global. Em \n",
    "\n",
    "    seguida, escreva outra função que remova um elemento dessa lista global recebendo o nome. "
   ]
  },
  {
   "cell_type": "code",
   "execution_count": 2,
   "metadata": {},
   "outputs": [
    {
     "name": "stdout",
     "output_type": "stream",
     "text": [
      "['nathy fica quieta']\n",
      "['nathy fica quieta', 'maria']\n",
      "['nathy fica quieta']\n"
     ]
    }
   ],
   "source": [
    "lista = []\n",
    "def adicionar (nome) :\n",
    "    lista.append(nome)\n",
    "    print(lista)\n",
    "def remover (nome) :\n",
    "    lista.remove(nome)\n",
    "    print(lista)\n",
    "    \n",
    "adicionar('nathy fica quieta')\n",
    "adicionar('maria')\n",
    "remover('maria')    "
   ]
  },
  {
   "cell_type": "markdown",
   "metadata": {},
   "source": [
    "    4. Crie um caixa eletrônico: Crie uma variável global para armazenar o saldo, crie função para \n",
    "\n",
    "    depositar e sacar, recebendo o valor como parâmetro, crie outra função para consultar o \n",
    "\n",
    "    saldo. Crie um menu interativo com while para navegar entre as funções: \n",
    "\n",
    " [1] Depositar \n",
    " [2] Sacar \n",
    " [3] Consultar saldo\n",
    " [4] Parar programa \n"
   ]
  },
  {
   "cell_type": "code",
   "execution_count": 3,
   "metadata": {},
   "outputs": [
    {
     "name": "stdout",
     "output_type": "stream",
     "text": [
      "Menu\n",
      "[1] Depositar\n",
      "[2] Sacar\n",
      "[3] Consultar\n",
      "[4] Sair\n",
      "Menu\n",
      "[1] Depositar\n",
      "[2] Sacar\n",
      "[3] Consultar\n",
      "[4] Sair\n",
      "Seu saldo é de R$50.0\n",
      "Menu\n",
      "[1] Depositar\n",
      "[2] Sacar\n",
      "[3] Consultar\n",
      "[4] Sair\n"
     ]
    }
   ],
   "source": [
    "saldo = 0\n",
    "def depositar(valor):\n",
    "    global saldo\n",
    "    saldo = saldo + valor\n",
    "def sacar(valor):\n",
    "    global saldo\n",
    "    saldo = saldo - valor \n",
    "def ConsultarSaldo():\n",
    "    print(f'Seu saldo é de R${saldo}')\n",
    "while True:\n",
    "    print ('Menu')\n",
    "    print ('[1] Depositar')\n",
    "    print ('[2] Sacar')\n",
    "    print ('[3] Consultar')\n",
    "    print ('[4] Sair')\n",
    "    opssao = input('Digite um número da opção desejada')\n",
    "    if opssao == '1':\n",
    "        valor = float(input('Digite o valor que deseja depositar'))\n",
    "        depositar(valor)\n",
    "    elif opssao == '2':\n",
    "        valor = float(input('Digite um valor para sacar'))\n",
    "        sacar(valor)\n",
    "    elif opssao == '3':\n",
    "        ConsultarSaldo()\n",
    "    else:\n",
    "        break\n"
   ]
  },
  {
   "cell_type": "markdown",
   "metadata": {},
   "source": [
    "    5. Desenhando um retângulo. Crie um algoritmo que receba em variável global um caractere \n",
    "\n",
    "    especial. Em uma função receba 2 parâmetros altura e largura e desenhe de acordo com a \n",
    "\n",
    "    largura, a quantidade de vezes que irá repetir o caractere, e de acordo com a altura, o número \n",
    "\n",
    "    de linhas que será desenhado. Ex: Caractere +, largura 20 altura 5: \n",
    "\n",
    "  \n",
    "\n",
    "++++++++++++++++++++ \n",
    "\n",
    "++++++++++++++++++++ \n",
    "\n",
    "++++++++++++++++++++ \n",
    "\n",
    "++++++++++++++++++++ \n",
    "\n",
    "++++++++++++++++++++ "
   ]
  },
  {
   "cell_type": "code",
   "execution_count": 12,
   "metadata": {},
   "outputs": [
    {
     "name": "stdout",
     "output_type": "stream",
     "text": [
      "■■■■■■■■■■■■■■■■■■■■\n",
      "■■■■■■■■■■■■■■■■■■■■\n",
      "■■■■■■■■■■■■■■■■■■■■\n",
      "■■■■■■■■■■■■■■■■■■■■\n",
      "■■■■■■■■■■■■■■■■■■■■\n"
     ]
    }
   ],
   "source": [
    "caractere = '■'\n",
    "def desenharForma(L, a):\n",
    "    global caractere\n",
    "    for i in range(a):\n",
    "        print (caractere * L)\n",
    "\n",
    "desenharForma(20,5)"
   ]
  },
  {
   "cell_type": "markdown",
   "metadata": {},
   "source": [
    "    6. No exercício anterior, inclua uma docstring e os annotations na função para explicar para o \n",
    "\n",
    "    usuário, como utiliza-la "
   ]
  }
 ],
 "metadata": {
  "kernelspec": {
   "display_name": "Python 3",
   "language": "python",
   "name": "python3"
  },
  "language_info": {
   "codemirror_mode": {
    "name": "ipython",
    "version": 3
   },
   "file_extension": ".py",
   "mimetype": "text/x-python",
   "name": "python",
   "nbconvert_exporter": "python",
   "pygments_lexer": "ipython3",
   "version": "3.12.3"
  }
 },
 "nbformat": 4,
 "nbformat_minor": 2
}
