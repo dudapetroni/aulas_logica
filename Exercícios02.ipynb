{
 "cells": [
  {
   "cell_type": "code",
   "execution_count": null,
   "metadata": {},
   "outputs": [],
   "source": []
  },
  {
   "cell_type": "markdown",
   "metadata": {},
   "source": [
    "Atividade 02 - Algoritmos"
   ]
  },
  {
   "cell_type": "markdown",
   "metadata": {},
   "source": [
    "1 - Leia 2 notas de um aluno, calcule a média e imprima aprovado ou reprovado (para ser\n",
    "aprovado a média deve ser no mínimo 7)"
   ]
  },
  {
   "cell_type": "code",
   "execution_count": 3,
   "metadata": {},
   "outputs": [
    {
     "name": "stdout",
     "output_type": "stream",
     "text": [
      "Reprovado\n"
     ]
    }
   ],
   "source": [
    "nota1 = float(input('Insira uma nota'))\n",
    "nota2 = float(input('Insira outra nota'))\n",
    "media = (nota1 + nota2) / 2\n",
    "if media > 7:\n",
    "    print ('Aprovado')\n",
    "else: \n",
    "    print('Reprovado')"
   ]
  },
  {
   "cell_type": "markdown",
   "metadata": {},
   "source": [
    "2 - Peça dois números ao usuário e mostre qual o maior e qual o menor"
   ]
  },
  {
   "cell_type": "code",
   "execution_count": 12,
   "metadata": {},
   "outputs": [
    {
     "name": "stdout",
     "output_type": "stream",
     "text": [
      "Números iguais\n"
     ]
    }
   ],
   "source": [
    "numero1 = float(input('Insira um número'))\n",
    "numero2 = float(input('Insira outro número'))\n",
    "if numero1 > numero2:\n",
    "    print (f'{numero1} é maior')\n",
    "if numero1 < numero2:\n",
    "    print (f'{numero2} é maior')\n",
    "if numero1 == numero2:\n",
    "    print ('Números iguais')"
   ]
  },
  {
   "cell_type": "markdown",
   "metadata": {},
   "source": [
    "3 - Receba um inteiro e diga se é par ou ímpar."
   ]
  },
  {
   "cell_type": "code",
   "execution_count": 8,
   "metadata": {},
   "outputs": [
    {
     "name": "stdout",
     "output_type": "stream",
     "text": [
      "Número ímpar\n"
     ]
    }
   ],
   "source": [
    "numero = float(input('Insira um número'))\n",
    "if (numero % 2) > 0: \n",
    "    print('Número ímpar')\n",
    "else:\n",
    "    print ('Número par')"
   ]
  },
  {
   "cell_type": "markdown",
   "metadata": {},
   "source": [
    "4 - Receba um número inteiro e diga se é positivo ou negativo"
   ]
  },
  {
   "cell_type": "code",
   "execution_count": 6,
   "metadata": {},
   "outputs": [
    {
     "name": "stdout",
     "output_type": "stream",
     "text": [
      "Número negativo\n"
     ]
    }
   ],
   "source": [
    "numero = int(input('Insira um número inteiro'))\n",
    "if numero > 0:\n",
    "    print ('Número positivo')\n",
    "else:\n",
    "    print ('Número negativo')"
   ]
  },
  {
   "cell_type": "markdown",
   "metadata": {},
   "source": [
    "5 - Pergunte o ano de nascimento de uma pessoa e diga se ele é maior de idade"
   ]
  },
  {
   "cell_type": "code",
   "execution_count": 7,
   "metadata": {},
   "outputs": [
    {
     "name": "stdout",
     "output_type": "stream",
     "text": [
      "Menor de idade\n"
     ]
    }
   ],
   "source": [
    "anoque_nasceu = int(input(\"Insira seu ano de nascimento\"))\n",
    "if (2024 - anoque_nasceu) < 18:\n",
    "    print ('Menor de idade')\n",
    "else:\n",
    "    print ('Maior de idade')"
   ]
  },
  {
   "cell_type": "markdown",
   "metadata": {},
   "source": [
    "6 - Ler dois números inteiros e informar se estes são iguais ou diferentes."
   ]
  },
  {
   "cell_type": "code",
   "execution_count": 9,
   "metadata": {},
   "outputs": [
    {
     "name": "stdout",
     "output_type": "stream",
     "text": [
      "Números diferentes\n"
     ]
    }
   ],
   "source": [
    "numero1 = float(input('Insira um número'))\n",
    "numero2 = float(input('Insira outro número'))\n",
    "if numero1 == numero2:\n",
    "    print ('Números iguais')\n",
    "else:\n",
    "    print('Números diferentes')\n"
   ]
  },
  {
   "cell_type": "markdown",
   "metadata": {},
   "source": [
    "7 - Receba a velocidade do carro e exiba que foi multado se for maior que 80km/h, o valor da\n",
    "multa será R$ 7,00 por cada km excedido, exibir o valor da multa"
   ]
  },
  {
   "cell_type": "code",
   "execution_count": 13,
   "metadata": {},
   "outputs": [
    {
     "name": "stdout",
     "output_type": "stream",
     "text": [
      "Você pagará uma multa de R$140.0.\n"
     ]
    }
   ],
   "source": [
    "velocidade = float(input('Insira a velocidade'))\n",
    "if velocidade > 80:\n",
    "    velocidade2 = velocidade - 80\n",
    "    velocidade3 = velocidade2 * 7\n",
    "    print (f'Você pagará uma multa de R${velocidade3}.')\n",
    "else:\n",
    "    print ('Você estava na velocidade ideal')"
   ]
  },
  {
   "cell_type": "markdown",
   "metadata": {},
   "source": [
    "Extra - Crie um programa que receba três números e os imprima em ordem crescente.\n"
   ]
  },
  {
   "cell_type": "markdown",
   "metadata": {},
   "source": [
    "\n",
    "Extra - Escreva um programa que calcule o preço a ser pago por um produto considerando um desconto de 10% se o valor da compra for maior que R$ 100,00.\n",
    "\n"
   ]
  },
  {
   "cell_type": "code",
   "execution_count": 12,
   "metadata": {},
   "outputs": [
    {
     "name": "stdout",
     "output_type": "stream",
     "text": [
      "Você pagará apenas R$4500.0\n"
     ]
    }
   ],
   "source": [
    "presso_do_produto = float(input('Insira o preço do produto'))\n",
    "if presso_do_produto > 100 :\n",
    "    presso_com_desconto = presso_do_produto * 10 / 100\n",
    "    presso_com_desconto2 = presso_do_produto - presso_com_desconto \n",
    "    print (f'Você pagará apenas R${presso_com_desconto2}')\n",
    "else :\n",
    "    print (f\"Você pagará R${presso_do_produto}\")"
   ]
  },
  {
   "cell_type": "markdown",
   "metadata": {},
   "source": [
    "\n",
    "Extra - Desenvolva um programa que receba o valor de 3 lados de um triângulo e verifique se pode formar um triângulo.\n"
   ]
  },
  {
   "cell_type": "code",
   "execution_count": null,
   "metadata": {},
   "outputs": [],
   "source": [
    "lado1 = float(input('Insira a medida de um lado do triângulo'))\n",
    "lado2 = float(input('Insira a medida de um lado do triângulo'))\n",
    "lado3 = float(input('Insira a medida de um lado do triângulo'))\n",
    "\n"
   ]
  },
  {
   "cell_type": "markdown",
   "metadata": {},
   "source": [
    "\n",
    "Extra - Crie um programa que receba 2 valores e troque os valores das variáveis entre si, ex.: var a=1 e b=2 , exibir \"O valor da variável a=2 e b=1\"\n",
    "\n"
   ]
  },
  {
   "cell_type": "code",
   "execution_count": 9,
   "metadata": {},
   "outputs": [
    {
     "name": "stdout",
     "output_type": "stream",
     "text": [
      "Variável 1 = 89.0, variável 2 = 56.0\n"
     ]
    }
   ],
   "source": [
    "numero1 = float(input('Insira um número'))\n",
    "numero2 = float(input('Insira um número'))\n",
    "if numero1 != numero2:\n",
    "    print (f'Variável 1 = {numero2}, variável 2 = {numero1}')\n",
    "else:\n",
    "    print ('Variáveis iguais')"
   ]
  },
  {
   "cell_type": "markdown",
   "metadata": {},
   "source": [
    "\n",
    "Extra - Refaça o exercício anterior, sem utilizar variáveis adicionais\n"
   ]
  },
  {
   "cell_type": "code",
   "execution_count": null,
   "metadata": {},
   "outputs": [],
   "source": []
  },
  {
   "cell_type": "code",
   "execution_count": null,
   "metadata": {},
   "outputs": [],
   "source": []
  }
 ],
 "metadata": {
  "kernelspec": {
   "display_name": "Python 3",
   "language": "python",
   "name": "python3"
  },
  "language_info": {
   "codemirror_mode": {
    "name": "ipython",
    "version": 3
   },
   "file_extension": ".py",
   "mimetype": "text/x-python",
   "name": "python",
   "nbconvert_exporter": "python",
   "pygments_lexer": "ipython3",
   "version": "3.12.2"
  }
 },
 "nbformat": 4,
 "nbformat_minor": 2
}
