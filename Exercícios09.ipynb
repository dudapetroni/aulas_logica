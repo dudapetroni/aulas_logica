{
 "cells": [
  {
   "cell_type": "markdown",
   "metadata": {},
   "source": [
    "    1. Crie uma função sem parâmetros que exiba uma linha com 50 * , e uma mensagem de boas \n",
    "\n",
    "    vindas, chame essa função por 4 vezes "
   ]
  },
  {
   "cell_type": "code",
   "execution_count": 21,
   "metadata": {},
   "outputs": [
    {
     "name": "stdout",
     "output_type": "stream",
     "text": [
      "**************************************************\n",
      "Bem-vindo(a) 😘\n",
      "**************************************************\n",
      "Bem-vindo(a) 😘\n",
      "**************************************************\n",
      "Bem-vindo(a) 😘\n",
      "**************************************************\n",
      "Bem-vindo(a) 😘\n"
     ]
    }
   ],
   "source": [
    "def Linhas():\n",
    "    print ('*' *50)\n",
    "    print ('Bem-vindo(a) 😘')\n",
    "for n in range(4):\n",
    "  Linhas()\n",
    "\n"
   ]
  },
  {
   "cell_type": "markdown",
   "metadata": {},
   "source": [
    "    2. Crie uma função que contenha uma lista com as cores primárias e exiba cada cor em uma \n",
    "\n",
    "    linha "
   ]
  },
  {
   "cell_type": "code",
   "execution_count": 30,
   "metadata": {},
   "outputs": [
    {
     "name": "stdout",
     "output_type": "stream",
     "text": [
      "Azul\n",
      "Amarelo\n",
      "Vermelho\n"
     ]
    }
   ],
   "source": [
    "def co ():\n",
    "    cor = ['Azul','Amarelo','Vermelho']\n",
    "    print (cor[0])\n",
    "    print (cor[1])\n",
    "    print (cor[2])\n",
    "co ()"
   ]
  },
  {
   "cell_type": "markdown",
   "metadata": {},
   "source": [
    "    3. Crie uma função que recebe um número como parâmetro e exiba a tabuada até o 10, chame \n",
    "\n",
    "    essa função por 3 vezes enviando parâmetros diferentes"
   ]
  },
  {
   "cell_type": "code",
   "execution_count": 2,
   "metadata": {},
   "outputs": [
    {
     "name": "stdout",
     "output_type": "stream",
     "text": [
      "3 x 0 = 0\n",
      "3 x 1 = 3\n",
      "3 x 2 = 6\n",
      "3 x 3 = 9\n",
      "3 x 4 = 12\n",
      "3 x 5 = 15\n",
      "3 x 6 = 18\n",
      "3 x 7 = 21\n",
      "3 x 8 = 24\n",
      "3 x 9 = 27\n",
      "3 x 10 = 30\n"
     ]
    }
   ],
   "source": [
    "recebendo_numero = int(input('Digite um número'))\n",
    "def Tabuada():\n",
    "    for x in range(11):\n",
    "        print (f'{recebendo_numero} x {x} = {recebendo_numero * x}')\n",
    "Tabuada()"
   ]
  },
  {
   "cell_type": "markdown",
   "metadata": {},
   "source": [
    "    4. Crie uma função que receba 2 números e o operador matemático para realizar a operação \n",
    "\n",
    "    (Ex. envio os parâmetros 2 e 5 e *, fazer a multiplicação), tratar as operações + - * / ** "
   ]
  },
  {
   "cell_type": "code",
   "execution_count": 22,
   "metadata": {},
   "outputs": [
    {
     "name": "stdout",
     "output_type": "stream",
     "text": [
      "4.0 + 6.0 = 10.0\n"
     ]
    }
   ],
   "source": [
    "def Operassaum():\n",
    "    if operador == '+':\n",
    "        print (f'{numero1} + {numero2} = {numero1 + numero2}')\n",
    "    elif operador == '-':\n",
    "        print (f'{numero1} - {numero2} = {numero1 - numero2}')\n",
    "    elif operador == '*':\n",
    "        print (f'{numero1} X {numero2} = {numero1 * numero2}')\n",
    "    elif operador == '**':\n",
    "        print (f'{numero1} ** {numero2} = {numero1 ** numero2}')\n",
    "    else:\n",
    "        print (f'{numero1} / {numero2} = {numero1 / numero2}')\n",
    "numero1 = float(input('Digite um número'))\n",
    "numero2 = float(input('Digite um número'))\n",
    "operador = (input('Digite um número'))\n",
    "Operassaum()"
   ]
  },
  {
   "cell_type": "markdown",
   "metadata": {},
   "source": [
    "    5. Crie uma função que gere uma senha aleatória, deve receber como parâmetro a quantidade \n",
    "\n",
    "    de caracteres que terá a senha, crie uma lista com todos os caracteres disponíveis para a \n",
    "\n",
    "    senha e com o random sorteie a qual de dígitos terá a senha "
   ]
  },
  {
   "cell_type": "code",
   "execution_count": 24,
   "metadata": {},
   "outputs": [
    {
     "name": "stdout",
     "output_type": "stream",
     "text": [
      "w7-hx!94\n"
     ]
    }
   ],
   "source": [
    "import random\n",
    "\n",
    "def Senha(qtd):\n",
    "    caracteresDisponiveis = ['0','1','2','3','4','5','6','7','8','9','a','c','d','e','f','g','h','i','j','k','l','n','o','p','q','r','s','t','u','v','w','x','y','z','!','@','#','$','%','&','*','(',')','+','=','-']\n",
    "    senha1 = \"\"\n",
    "    for i in range(qtd):\n",
    "        valor_senha = random.choice(caracteresDisponiveis)\n",
    "        senha1 += valor_senha\n",
    "    return senha1\n",
    "\n",
    "variavel = int(input('Digite um número'))\n",
    "retorno = Senha(variavel)\n",
    "print(retorno)"
   ]
  }
 ],
 "metadata": {
  "kernelspec": {
   "display_name": "Python 3",
   "language": "python",
   "name": "python3"
  },
  "language_info": {
   "codemirror_mode": {
    "name": "ipython",
    "version": 3
   },
   "file_extension": ".py",
   "mimetype": "text/x-python",
   "name": "python",
   "nbconvert_exporter": "python",
   "pygments_lexer": "ipython3",
   "version": "3.12.3"
  }
 },
 "nbformat": 4,
 "nbformat_minor": 2
}
