{
 "cells": [
  {
   "cell_type": "markdown",
   "metadata": {},
   "source": [
    "1. Utilizando o comando WHILE, exiba todos os números pares, de 1 a 20"
   ]
  },
  {
   "cell_type": "code",
   "execution_count": 2,
   "metadata": {},
   "outputs": [
    {
     "name": "stdout",
     "output_type": "stream",
     "text": [
      "2\n",
      "4\n",
      "6\n",
      "8\n",
      "10\n",
      "12\n",
      "14\n",
      "16\n",
      "18\n",
      "20\n"
     ]
    }
   ],
   "source": [
    "x = 0\n",
    "while x <= 18 :\n",
    "   x = x + 2\n",
    "   print (x)"
   ]
  },
  {
   "cell_type": "markdown",
   "metadata": {},
   "source": [
    "2. Gere os 6 números do sorteio da mega-sena de forma aleatória."
   ]
  },
  {
   "cell_type": "code",
   "execution_count": 9,
   "metadata": {},
   "outputs": [
    {
     "name": "stdout",
     "output_type": "stream",
     "text": [
      "32\n",
      "2\n",
      "27\n",
      "10\n",
      "7\n",
      "57\n"
     ]
    }
   ],
   "source": [
    "import random\n",
    "numero = 0\n",
    "while numero <= 5:\n",
    "    numero = numero + 1\n",
    "    numero1 = random.randint (1, 60)\n",
    "    print (numero1)"
   ]
  },
  {
   "cell_type": "markdown",
   "metadata": {},
   "source": [
    "3. Receba alguns número e verifique a soma e a quantidade de todos os pares e ímpares\n",
    "digitados, digite 0 para não receber mais"
   ]
  },
  {
   "cell_type": "code",
   "execution_count": 10,
   "metadata": {},
   "outputs": [
    {
     "name": "stdout",
     "output_type": "stream",
     "text": [
      "A soma de todos os números é 21.0, você digitou 2 números pares e 1 números ímpares\n"
     ]
    }
   ],
   "source": [
    "numeros = 0\n",
    "soma = 0\n",
    "par = 0\n",
    "impar = 0\n",
    "while True:\n",
    "    numeros = float(input('Digite um número'))\n",
    "    if numeros == 0:\n",
    "        break\n",
    "    elif numeros % 2 == 0:\n",
    "        par = par + 1\n",
    "    elif numeros % 2 == 1:\n",
    "        impar = impar + 1\n",
    "    soma = soma + numeros \n",
    "print (f'A soma de todos os números é {soma}, você digitou {par} números pares e {impar} números ímpares')"
   ]
  },
  {
   "cell_type": "markdown",
   "metadata": {},
   "source": [
    "4. Faça um programa em Python que leia 5 valores inteiros e:\n",
    "• Encontre e mostre o maior valor\n",
    "• Encontre e mostre o menor valor\n",
    "• Calcule e mostre a média dos números lidos"
   ]
  },
  {
   "cell_type": "code",
   "execution_count": 35,
   "metadata": {},
   "outputs": [
    {
     "name": "stdout",
     "output_type": "stream",
     "text": [
      "21.2\n"
     ]
    }
   ],
   "source": [
    "nr = 0\n",
    "soma = 0\n",
    "maior = 0 \n",
    "menor = 0\n",
    "for nr in range(5):\n",
    "    nr = int(input('Digite um número'))\n",
    "    soma = soma + nr\n",
    "soma = soma /5\n",
    "\n",
    "print (soma)\n"
   ]
  },
  {
   "cell_type": "markdown",
   "metadata": {},
   "source": [
    "5. Faça um programa que receba um número e mostre seu fatorial. Ex. :\n",
    "5! = 5 * 4 * 3 * 2 * 1 = 120"
   ]
  },
  {
   "cell_type": "markdown",
   "metadata": {},
   "source": [
    "6. Crie um programa com um menu, onde irá receber 2 números, e pelo menu perguntar qual\n",
    "operação deseja realizar\n",
    "[1] Somar os números\n",
    "[2] Subtrair os números\n",
    "[3] Multiplicar os números\n",
    "[4] Dividir os números\n",
    "[5] Sair"
   ]
  },
  {
   "cell_type": "markdown",
   "metadata": {},
   "source": [
    "7. Crie um sistema bancário, onde começo recebendo o nome do cliente e seu saldo zerado, crie\n",
    "as opções em um menu onde posso, depositar um valor, sacar um valor, consultar o saldo ou\n",
    "sair\n",
    "[1] Depositar\n",
    "[2] Sacar\n",
    "[3] Consultar Saldo\n",
    "[4] Sair"
   ]
  },
  {
   "cell_type": "markdown",
   "metadata": {},
   "source": [
    "DESAFIO - Crie o jogo Jokenpo (✊, 🖐, ✌ ), onde o computador irá sortear entre pedra, papel e\n",
    "tesoura, e o jogador terá que escolher sua opção, jogar até o usuário digitar SAIR, ao\n",
    "sair, exibir quantas vezes cada um ganhou"
   ]
  },
  {
   "cell_type": "markdown",
   "metadata": {},
   "source": []
  }
 ],
 "metadata": {
  "kernelspec": {
   "display_name": "Python 3",
   "language": "python",
   "name": "python3"
  },
  "language_info": {
   "codemirror_mode": {
    "name": "ipython",
    "version": 3
   },
   "file_extension": ".py",
   "mimetype": "text/x-python",
   "name": "python",
   "nbconvert_exporter": "python",
   "pygments_lexer": "ipython3",
   "version": "3.12.2"
  }
 },
 "nbformat": 4,
 "nbformat_minor": 2
}
