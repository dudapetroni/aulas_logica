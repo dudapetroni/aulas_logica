{
 "cells": [
  {
   "cell_type": "markdown",
   "metadata": {},
   "source": [
    "    1. Crie uma lista com os números de 1 a 10 e imprima cada número. "
   ]
  },
  {
   "cell_type": "code",
   "execution_count": 1,
   "metadata": {},
   "outputs": [
    {
     "name": "stdout",
     "output_type": "stream",
     "text": [
      "1\n",
      "2\n",
      "3\n",
      "4\n",
      "5\n",
      "6\n",
      "7\n",
      "8\n",
      "9\n",
      "1\n",
      "0\n"
     ]
    }
   ],
   "source": [
    "numeros = '12345678910'\n",
    "for numero in numeros:\n",
    "    print (numero)"
   ]
  },
  {
   "cell_type": "markdown",
   "metadata": {},
   "source": [
    "    2. Crie uma lista com os nomes de três amigos e imprima cada nome. "
   ]
  },
  {
   "cell_type": "code",
   "execution_count": 2,
   "metadata": {},
   "outputs": [
    {
     "name": "stdout",
     "output_type": "stream",
     "text": [
      "Josival\n",
      "Osvaldo\n",
      "Clodoaldo\n"
     ]
    }
   ],
   "source": [
    "amigos = ['Josival','Osvaldo','Clodoaldo']\n",
    "for cadaAmigo in amigos:\n",
    "    print (cadaAmigo)"
   ]
  },
  {
   "cell_type": "markdown",
   "metadata": {},
   "source": [
    "    3. Crie uma lista com os meses do ano e imprima apenas os meses que começam com \"J\". "
   ]
  },
  {
   "cell_type": "code",
   "execution_count": 3,
   "metadata": {},
   "outputs": [
    {
     "name": "stdout",
     "output_type": "stream",
     "text": [
      "Janeiro\n",
      "Junho\n",
      "Julho\n"
     ]
    }
   ],
   "source": [
    "mesesDoAno = ['Janeiro', 'Fevereiro', 'Março' ,'Abril' ,'Maio' ,'Junho', 'Julho', 'Agosto' ,'Setembro' ,'Outunto' ,'Novembro', 'Dezembro']\n",
    "for nome in mesesDoAno:\n",
    "    if (nome[0]) == 'J':\n",
    "        print(nome)"
   ]
  },
  {
   "cell_type": "markdown",
   "metadata": {},
   "source": [
    "    4. Crie uma lista com as palavras \"gato\", \"cachorro\", \"pássaro\" e \"peixe\", e imprima cada palavra \n",
    "\n",
    "    em maiúsculas. "
   ]
  },
  {
   "cell_type": "code",
   "execution_count": 12,
   "metadata": {},
   "outputs": [
    {
     "name": "stdout",
     "output_type": "stream",
     "text": [
      "GATO\n",
      "CACHORRO\n",
      "PÁSSARO\n",
      "PEIXE\n"
     ]
    }
   ],
   "source": [
    "animais = ['gato','cachorro','pássaro','peixe']\n",
    "for bichos in animais:\n",
    "    print (bichos.upper())"
   ]
  },
  {
   "cell_type": "markdown",
   "metadata": {},
   "source": [
    "    5. Crie uma lista com 5 números aleatórios e exiba o nr e seu dobro. "
   ]
  },
  {
   "cell_type": "code",
   "execution_count": 2,
   "metadata": {},
   "outputs": [
    {
     "name": "stdout",
     "output_type": "stream",
     "text": [
      "O número sorteado é 16\n",
      "O dobro deste número é 32\n",
      "O número sorteado é 15\n",
      "O dobro deste número é 30\n",
      "O número sorteado é 61\n",
      "O dobro deste número é 122\n",
      "O número sorteado é 21\n",
      "O dobro deste número é 42\n",
      "O número sorteado é 90\n",
      "O dobro deste número é 180\n"
     ]
    }
   ],
   "source": [
    "import random\n",
    "for numero in range(5):\n",
    "    sorteado = random.randint(1,100)\n",
    "    print (f'O número sorteado é {sorteado}')\n",
    "    dobro = sorteado + sorteado\n",
    "    print (f'O dobro deste número é {dobro}')"
   ]
  },
  {
   "cell_type": "markdown",
   "metadata": {},
   "source": [
    "    6. Crie uma lista com valores numéricos e encontre o maior e o menor elemento dessa lista. "
   ]
  },
  {
   "cell_type": "code",
   "execution_count": 45,
   "metadata": {},
   "outputs": [
    {
     "name": "stdout",
     "output_type": "stream",
     "text": [
      "45 2\n",
      "Utilizando as funções prontas do Phyton\n",
      "45\n",
      "2\n"
     ]
    }
   ],
   "source": [
    "numeros = [8,5,12,45,2]\n",
    "maior = 0\n",
    "menor = 1000000000000000\n",
    "for numeroAtual in numeros:\n",
    "    if numeroAtual > maior:\n",
    "        maior = numeroAtual\n",
    "    if numeroAtual < menor: \n",
    "        menor = numeroAtual\n",
    "print (maior,menor)\n",
    "\n",
    "\n",
    "\n",
    "\n",
    "#Utilizando as funções prontas do Phyton\n",
    "print ('Utilizando as funções prontas do Phyton')\n",
    "print(max(numeros))\n",
    "print(min(numeros))\n"
   ]
  },
  {
   "cell_type": "markdown",
   "metadata": {},
   "source": [
    "    7. Receba uma palavra do usuário e calcule quantas vogais há nesta palavra. "
   ]
  },
  {
   "cell_type": "code",
   "execution_count": 39,
   "metadata": {},
   "outputs": [
    {
     "name": "stdout",
     "output_type": "stream",
     "text": [
      "Há 2 vogais nesta palavra\n"
     ]
    }
   ],
   "source": [
    "palavra = input('Digite uma palavra')\n",
    "vogais = ['a','e','i','o','u']\n",
    "vogaisNaPalavra= 0 \n",
    "for letra in palavra:\n",
    "    if letra in vogais:\n",
    "        vogaisNaPalavra +=1\n",
    "print (f'Há {vogaisNaPalavra} vogais nesta palavra')\n",
    "\n",
    "    "
   ]
  },
  {
   "cell_type": "markdown",
   "metadata": {},
   "source": [
    "    8. Nessa string ‘Gol;Corsa;Palio;Monza;Fusca;’, faça a separação desses itens para uma lista e \n",
    "\n",
    "    exiba o item e a posição que ele está "
   ]
  },
  {
   "cell_type": "code",
   "execution_count": 18,
   "metadata": {},
   "outputs": [
    {
     "name": "stdout",
     "output_type": "stream",
     "text": [
      "0\n",
      "Gol\n",
      "1\n",
      "Corsa\n",
      "2\n",
      "Palio\n",
      "3\n",
      "Monza\n",
      "4\n",
      "Fusca\n"
     ]
    }
   ],
   "source": [
    "carros = ['Gol','Corsa','Palio','Monza','Fusca']\n",
    "for pos, x in enumerate(carros):\n",
    "    print (pos)\n",
    "    print (x)\n",
    "\n"
   ]
  },
  {
   "cell_type": "markdown",
   "metadata": {},
   "source": []
  },
  {
   "cell_type": "markdown",
   "metadata": {},
   "source": [
    "    9. Faça um programa que vai ler valores numéricos e guardá-los em uma lista, caso o \n",
    "\n",
    "    usuário digite 0, o programa mostre: \n",
    "\n",
    "> A – Quantos números foram digitados. \n",
    "\n",
    "> B – Mostre a lista em ordem crescente. \n",
    "\n",
    "> C – Mostre a lista em ordem decrescente. \n",
    "\n",
    "> D – O maior valor \n",
    "\n",
    "> E – O menor valor \n",
    "\n",
    "> D – Se o valor 5 foi digitado na lista ou não.  "
   ]
  },
  {
   "cell_type": "code",
   "execution_count": null,
   "metadata": {},
   "outputs": [],
   "source": [
    "listaNumeros = []\n",
    "while True:\n",
    "    numeros = float(input('Digite valores numéricos'))\n",
    "    listaNumeros.append(numeros)\n",
    "    continuarNão = input('Para parar digite [0]')\n",
    "    if continuarNão in '0':\n",
    "        break \n",
    "for pos, numeros in enumerate(listaNumeros):\n",
    "    print (f'{pos}° {numeros}')\n",
    "    "
   ]
  }
 ],
 "metadata": {
  "kernelspec": {
   "display_name": "Python 3",
   "language": "python",
   "name": "python3"
  },
  "language_info": {
   "codemirror_mode": {
    "name": "ipython",
    "version": 3
   },
   "file_extension": ".py",
   "mimetype": "text/x-python",
   "name": "python",
   "nbconvert_exporter": "python",
   "pygments_lexer": "ipython3",
   "version": "3.12.2"
  }
 },
 "nbformat": 4,
 "nbformat_minor": 2
}
