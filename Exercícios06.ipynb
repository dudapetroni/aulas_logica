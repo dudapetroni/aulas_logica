{
 "cells": [
  {
   "cell_type": "markdown",
   "metadata": {},
   "source": [
    "1. Utilizando o comando FOR, exiba todos os números ímpares, de 1 a 40"
   ]
  },
  {
   "cell_type": "code",
   "execution_count": 3,
   "metadata": {},
   "outputs": [
    {
     "name": "stdout",
     "output_type": "stream",
     "text": [
      "1\n",
      "3\n",
      "5\n",
      "7\n",
      "9\n",
      "11\n",
      "13\n",
      "15\n",
      "17\n",
      "19\n",
      "21\n",
      "23\n",
      "25\n",
      "27\n",
      "29\n",
      "31\n",
      "33\n",
      "35\n",
      "37\n",
      "39\n"
     ]
    }
   ],
   "source": [
    "for x in range(1,41,2):\n",
    "    print (x)"
   ]
  },
  {
   "cell_type": "markdown",
   "metadata": {},
   "source": [
    "2. Gere os 6 números do sorteio da mega-sena de forma aleatória"
   ]
  },
  {
   "cell_type": "code",
   "execution_count": 1,
   "metadata": {},
   "outputs": [
    {
     "name": "stdout",
     "output_type": "stream",
     "text": [
      "Os números sorteados são:\n",
      "41\n",
      "19\n",
      "47\n",
      "16\n",
      "32\n",
      "58\n"
     ]
    }
   ],
   "source": [
    "import random \n",
    "print ('Os números sorteados são:')\n",
    "for numeros in range(6):\n",
    "    numeros = random.randint(1,61)\n",
    "    print (numeros)"
   ]
  },
  {
   "cell_type": "markdown",
   "metadata": {},
   "source": [
    "3. Receba 5 números e verifique a soma e a quantidades de todos os pares e ímpares digitados"
   ]
  },
  {
   "cell_type": "code",
   "execution_count": 5,
   "metadata": {},
   "outputs": [
    {
     "name": "stdout",
     "output_type": "stream",
     "text": [
      "A soma total é 21, você digitou 2 números pares e 3 números ímpares\n"
     ]
    }
   ],
   "source": [
    "nr = 0\n",
    "soma = 0\n",
    "par = 0 \n",
    "impar = 0\n",
    "for nr in range(5):\n",
    "    nr = int(input('Digite um número'))\n",
    "    soma = soma + nr\n",
    "    if nr % 2 == 0:\n",
    "        par = par + 1\n",
    "    else:\n",
    "        impar = impar + 1\n",
    "print (f'A soma total é {soma}, você digitou {par} números pares e {impar} números ímpares')"
   ]
  },
  {
   "cell_type": "markdown",
   "metadata": {},
   "source": [
    "4. Solicite os parâmetros de início, fim e passo para o laço de repetição usando a função range()\n",
    "e exiba o valor atual da variável de controle a cada iteração. range( x , y , z )"
   ]
  },
  {
   "cell_type": "code",
   "execution_count": 2,
   "metadata": {},
   "outputs": [
    {
     "name": "stdout",
     "output_type": "stream",
     "text": [
      "4\n",
      "7\n",
      "10\n",
      "13\n",
      "16\n",
      "19\n"
     ]
    }
   ],
   "source": [
    "inicio = int(input('Digite o valor inicial'))\n",
    "fim = int(input('Digite o valor final'))\n",
    "passo = int(input('Digite o passo'))\n",
    "for x in range(inicio, fim, passo):\n",
    "    print (x)"
   ]
  },
  {
   "cell_type": "markdown",
   "metadata": {},
   "source": [
    "5. Ler do teclado a idade e o sexo de 10 pessoas, calcule e imprima:\n",
    "• idade média das mulheres\n",
    "• idade média dos homens\n",
    "• idade média do grupo"
   ]
  },
  {
   "cell_type": "code",
   "execution_count": 4,
   "metadata": {},
   "outputs": [
    {
     "name": "stdout",
     "output_type": "stream",
     "text": [
      "2 mulheres responderam as questões e a média das suas idades é 28.0.3 homens responderam as restões e a média de suas idades é 36.0\n",
      "A idade média do grupo é 32.8\n"
     ]
    }
   ],
   "source": [
    "mulheres = 0\n",
    "homis = 0\n",
    "idade_mulheres = 0 \n",
    "idade_homens = 0\n",
    "mediagrupo = 0\n",
    "for x in range(5):\n",
    "    resposta = (input('Digite aqui \"M\" para mulher e \"H\" para homem'))\n",
    "    if resposta == 'M':\n",
    "        idade1 = (int(input(\"Digite sua idade\")))\n",
    "        idade_mulheres = idade_mulheres + idade1\n",
    "        mulheres = mulheres + 1\n",
    "    else :\n",
    "        idade2 = (int(input(\"Digite sua idade\")))\n",
    "        idade_homens = idade_homens + idade2\n",
    "        homis = homis + 1\n",
    "mediaM = idade_mulheres / mulheres\n",
    "mediaH = idade_homens / homis\n",
    "mediagrupo = (idade_mulheres + idade_homens) / 5\n",
    "print (f\"{mulheres} mulheres responderam as questões e a média das suas idades é {mediaM}.{homis} homens responderam as restões e a média de suas idades é {mediaH}\")\n",
    "print (f'A idade média do grupo é {mediagrupo}')\n",
    "    \n"
   ]
  },
  {
   "cell_type": "markdown",
   "metadata": {},
   "source": [
    "6."
   ]
  },
  {
   "cell_type": "code",
   "execution_count": 17,
   "metadata": {},
   "outputs": [
    {
     "name": "stdout",
     "output_type": "stream",
     "text": [
      "7\n",
      "14\n",
      "21\n",
      "28\n",
      "35\n",
      "42\n",
      "49\n",
      "56\n",
      "63\n",
      "70\n",
      "77\n",
      "84\n",
      "91\n",
      "98\n"
     ]
    }
   ],
   "source": [
    "for numero in range(5,100):\n",
    "    if numero % 7 == 0:\n",
    "        print (numero)"
   ]
  },
  {
   "cell_type": "markdown",
   "metadata": {},
   "source": [
    "7. Escreva um programa que receba uma string e leia ela de trás para frente."
   ]
  },
  {
   "cell_type": "code",
   "execution_count": 17,
   "metadata": {},
   "outputs": [
    {
     "name": "stdout",
     "output_type": "stream",
     "text": [
      "ryev alaf es men cv e\n"
     ]
    }
   ],
   "source": [
    "palavra = input('Digite uma palavra')\n",
    "ao_contrario = ''\n",
    "for letra in palavra :\n",
    "    ao_contrario = letra + ao_contrario\n",
    "\n",
    "print (ao_contrario)"
   ]
  }
 ],
 "metadata": {
  "kernelspec": {
   "display_name": "Python 3",
   "language": "python",
   "name": "python3"
  },
  "language_info": {
   "codemirror_mode": {
    "name": "ipython",
    "version": 3
   },
   "file_extension": ".py",
   "mimetype": "text/x-python",
   "name": "python",
   "nbconvert_exporter": "python",
   "pygments_lexer": "ipython3",
   "version": "3.12.3"
  }
 },
 "nbformat": 4,
 "nbformat_minor": 2
}
