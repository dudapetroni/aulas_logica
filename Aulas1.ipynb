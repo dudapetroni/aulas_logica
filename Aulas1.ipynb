{
 "cells": [
  {
   "cell_type": "code",
   "execution_count": 5,
   "metadata": {},
   "outputs": [
    {
     "name": "stdout",
     "output_type": "stream",
     "text": [
      "Olá, mundo!\n"
     ]
    }
   ],
   "source": [
    "print('Olá, mundo!')"
   ]
  },
  {
   "cell_type": "code",
   "execution_count": 6,
   "metadata": {},
   "outputs": [
    {
     "name": "stdout",
     "output_type": "stream",
     "text": [
      "Maria é linda\n"
     ]
    }
   ],
   "source": [
    "#O comentário não aparece na programação, é só uma anotação\n",
    "#Print serve para exibir alguma mensagem\n",
    "print('Maria é linda')"
   ]
  },
  {
   "cell_type": "code",
   "execution_count": 7,
   "metadata": {},
   "outputs": [
    {
     "name": "stdout",
     "output_type": "stream",
     "text": [
      "Meu primeiro código em Python, com aspas duplas\n",
      "Meu primeiro código em Python, com aspas duplas\n",
      "para duplicar uma linha é necessário pressionar shift+alt+seta para baixo\n"
     ]
    }
   ],
   "source": [
    "print(\"Meu primeiro código em Python, com aspas duplas\")\n",
    "print(\"Meu primeiro código em Python, com aspas duplas\")\n",
    "print (\"para duplicar uma linha é necessário pressionar shift+alt+seta para baixo\")"
   ]
  },
  {
   "cell_type": "code",
   "execution_count": 8,
   "metadata": {},
   "outputs": [
    {
     "name": "stdout",
     "output_type": "stream",
     "text": [
      "12345\n"
     ]
    }
   ],
   "source": [
    "print(12345)"
   ]
  },
  {
   "cell_type": "code",
   "execution_count": 9,
   "metadata": {},
   "outputs": [
    {
     "name": "stdout",
     "output_type": "stream",
     "text": [
      "11\n"
     ]
    }
   ],
   "source": [
    "print (5+6)"
   ]
  },
  {
   "cell_type": "code",
   "execution_count": 10,
   "metadata": {},
   "outputs": [
    {
     "name": "stdout",
     "output_type": "stream",
     "text": [
      "string 10 78.9 9\n"
     ]
    }
   ],
   "source": [
    "#É possível imprimir várias informações ao mesmo tempo separando-as por ,\n",
    "print ('string',10, 78.9, 4+5)"
   ]
  },
  {
   "cell_type": "markdown",
   "metadata": {},
   "source": [
    "Aula 15/02/2024 - Comandos de saída / Tipos de dados / Operações Aritméticas (+,-,*,/,%,**)"
   ]
  },
  {
   "cell_type": "code",
   "execution_count": 11,
   "metadata": {},
   "outputs": [
    {
     "name": "stdout",
     "output_type": "stream",
     "text": [
      "15\n",
      "-1\n",
      "46\n",
      "123.0\n",
      "0\n",
      "27\n",
      "34.0\n"
     ]
    }
   ],
   "source": [
    "print (10 + 5) # + é o operador de soma de números inteiros ou decimais\n",
    "print (6 - 7) # - É o operador de subtração de números inteiros ou decimais\n",
    "print (23 * 2) # * É o oprador de multiplicação de números inteiros ou decimais\n",
    "print(246 / 2) # / É o operador de divisão de números inteiros ou decimais\n",
    "print (45 % 3) # % É o operador de restos da divisão (Módulo)\n",
    "print (3 ** 3) # ** É o sinal de exponenciação. Ex: 3³\n",
    "print ((23 + 45) / 2) # É a operação de média, o parênteses define a maior ordem de precedência"
   ]
  },
  {
   "cell_type": "markdown",
   "metadata": {},
   "source": [
    "Aula 22/02/2024 Comandos de entrada (Input) / Variáveis / Pseudocódigo"
   ]
  },
  {
   "cell_type": "code",
   "execution_count": 2,
   "metadata": {},
   "outputs": [
    {
     "name": "stdout",
     "output_type": "stream",
     "text": [
      "Desenvolvimento de sistemas\n",
      "curso\n",
      "Desenvolvimento de sistemas\n",
      "curso Desenvolvimento de sistemas\n",
      "Olá Maria você tem 16 anos e hoje está 34.0 °C\n",
      "Hoje está True\n",
      "Seu nome é Maria, sua idade é 16 e você pesa 57.0kg\n",
      "<class 'str'> <class 'int'> <class 'float'>\n"
     ]
    }
   ],
   "source": [
    "#Declarando minha primeira variável 😊\n",
    "#Lemos da seguinte forma:\n",
    "#Variável curso recebe (=) a string \"Desenvolvimento de sistemas\"\n",
    "#Receba/Armazene o texto \"Desenvolvimento de sistemas\"\n",
    "curso = \"Desenvolvimento de sistemas\"\n",
    "#Exiba o valor armazenado\n",
    "print (\"Desenvolvimento de sistemas\") #Para se imprimir uma variável não se coloca \"\" 😡\n",
    "print (\"curso\") #Jeito correto de ultilizar uma variável 👍\n",
    "print (curso)\n",
    "print ('curso', curso)\n",
    "\n",
    "#Criando e atribuindo uma variável\n",
    "nome = \"Maria\"\n",
    "idade = 16\n",
    "temperatura = 34.0\n",
    "print (\"Olá\", nome, \"você tem\", idade,\"anos e hoje está\", temperatura, \"°C\")\n",
    "#Exiba o valor das 3 variáveis \n",
    "#Olá Maria, você tem 16 anos e hoje está 34°C\n",
    "chovendo = False\n",
    "dia = True\n",
    "print (\"Hoje está\",dia)\n",
    "#Nesta linha abaixo ocorrerá um erro pois não existe uma variável com o nome salário, então não consegue encontrar nada para exibir 😡\n",
    "#NameError: name 'salario' is not defined\n",
    "#print (\"Salario\", salario)\n",
    "#Declarando uma constante, diferenciamento da variável que posso alterar o valor na constante não é permitido, declaramos com o nome todo em maiúsculo\n",
    "PI = 3,1415\n",
    "\n",
    "#Passo 1: Receber o nome da pessoa\n",
    "#Passo 2: Receber a idade da pessoa \n",
    "#Passo 3: Receber o peso da pessoa\n",
    "#Exibir o nome, idade e peso da pessoa\n",
    "#Ao colocar f no print não precisa colocar vírgula para separar as informações do código\n",
    "nome = input ('Qual é o seu nome?')\n",
    "idade = int(input ('Qual a sua idade?'))\n",
    "peso = float(input ('Qual o seu peso?'))\n",
    "#Input pede para o usuário inserir as informações\n",
    "print (f'Seu nome é {nome}, sua idade é {idade} e você pesa {peso}kg')\n",
    "#Exibindo os tipo de variáveis\n",
    "#Tudo que recebemos do input é do tipo string\n",
    "print (type(nome),type(idade),type(peso))\n",
    "\n"
   ]
  },
  {
   "cell_type": "markdown",
   "metadata": {},
   "source": [
    "Aula 23/02/2024 - Operações com variáveis"
   ]
  },
  {
   "cell_type": "code",
   "execution_count": null,
   "metadata": {},
   "outputs": [
    {
     "name": "stdout",
     "output_type": "stream",
     "text": [
      "137.2\n"
     ]
    }
   ],
   "source": [
    "#Receber o primeiro número\n",
    "numero1 = float(input('Digite o 1° número'))\n",
    "#Receber o segundo número\n",
    "numero2 = float(input('Digite o 2° número'))\n",
    "#Recebe o terceiro número\n",
    "numero3 = float(input(\"Digite o 3° número\"))\n",
    "#Soma o primeiro + o segundo número + o terceiro número\n",
    "soma = numero1 + numero2 + numero3 \n",
    "#Exibe o resultado da soma\n",
    "print (soma)"
   ]
  },
  {
   "cell_type": "code",
   "execution_count": null,
   "metadata": {},
   "outputs": [
    {
     "name": "stdout",
     "output_type": "stream",
     "text": [
      "35.75\n"
     ]
    }
   ],
   "source": [
    "numero1 = float(input('Digite o 1° número'))\n",
    "numero2 = float(input('Digite o 2° número'))\n",
    "soma = numero1 * numero2\n",
    "print (soma)"
   ]
  },
  {
   "cell_type": "code",
   "execution_count": 1,
   "metadata": {},
   "outputs": [
    {
     "name": "stdout",
     "output_type": "stream",
     "text": [
      "35.0\n"
     ]
    }
   ],
   "source": [
    "\n",
    "soma = float(input('Digite o valor')) - float(input('Digite o desconto'))\n",
    "print (soma)"
   ]
  },
  {
   "cell_type": "code",
   "execution_count": null,
   "metadata": {},
   "outputs": [
    {
     "name": "stdout",
     "output_type": "stream",
     "text": [
      "3400.0\n"
     ]
    }
   ],
   "source": [
    "preco = float(input('Digite o valor'))\n",
    "desconto = float(input('Digite o desconto'))\n",
    "preco = preco - desconto\n",
    "print (preco)"
   ]
  },
  {
   "cell_type": "code",
   "execution_count": null,
   "metadata": {},
   "outputs": [
    {
     "name": "stdout",
     "output_type": "stream",
     "text": [
      "6.0\n",
      "36.0\n",
      "720.0\n",
      "O valor final é 720.0\n"
     ]
    }
   ],
   "source": [
    "numero = 90 / 15\n",
    "print (numero)\n",
    "numero = numero ** 2\n",
    "print (numero)\n",
    "numero = numero * (50 - 30)\n",
    "print (numero)\n",
    "print (f'O valor final é {numero}')"
   ]
  },
  {
   "cell_type": "code",
   "execution_count": null,
   "metadata": {},
   "outputs": [
    {
     "name": "stdout",
     "output_type": "stream",
     "text": [
      "12000\n"
     ]
    }
   ],
   "source": [
    "#Qual resultado a gente quer?\n",
    "#Passo 1: Descobrir quantas horas de trabalho vamos usar no projeto\n",
    "horas = 8\n",
    "#Passo 2: Pegar o custo de uma hora trabalho e multiplicar pela quantidade do passo 1\n",
    "Umahora = 100\n",
    "Diasdeprojeto = 15\n",
    "#Passo 3:Exibir o resultado final do custo do projeto\n",
    "resultado = horas * Umahora * Diasdeprojeto\n",
    "print (resultado)"
   ]
  },
  {
   "cell_type": "code",
   "execution_count": null,
   "metadata": {},
   "outputs": [
    {
     "name": "stdout",
     "output_type": "stream",
     "text": [
      "24000.0\n"
     ]
    }
   ],
   "source": [
    "#Passo 1: Descobrir quantas horas de trabalho vamos usar no projeto\n",
    "horas = float(input('Insira a quantidade de horas trabalhadas por dia'))\n",
    "#Passo 2: Pegar o custo de uma hora trabalho e multiplicar pela quantidade do passo 1\n",
    "Umahora = float(input('Insira o preço de cada hora trabalhada'))\n",
    "Diasdeprojeto = float(input('Insira quantos dias levará para completar o projeto'))\n",
    "#Passo 3:Exibir o resultado final do custo do projeto\n",
    "resultado = horas * Umahora * Diasdeprojeto\n",
    "print (resultado)"
   ]
  },
  {
   "cell_type": "markdown",
   "metadata": {},
   "source": [
    "Aula 29/02/2024 - Operadores Relacionais e Estrutura Condicional"
   ]
  },
  {
   "cell_type": "code",
   "execution_count": null,
   "metadata": {},
   "outputs": [
    {
     "name": "stdout",
     "output_type": "stream",
     "text": [
      "a > b? False\n",
      "a < b? True\n",
      "a == b? False\n",
      "a != b? True\n",
      "a > 2? False\n",
      "a >= 2? False\n"
     ]
    }
   ],
   "source": [
    "a = 2\n",
    "b = 3\n",
    "print (f'a > b? {a > b}')\n",
    "print (f'a < b? {a < b}')\n",
    "print (f'a == b? {a == b}')\n",
    "print (f'a != b? {a != b}')\n",
    "print (f'a > 2? {a > b}')\n",
    "print (f'a >= 2? {a >= b}')\n"
   ]
  },
  {
   "cell_type": "code",
   "execution_count": null,
   "metadata": {},
   "outputs": [],
   "source": [
    "tenho_ingresso = True\n",
    "if tenho_ingresso == True :\n",
    "    print('Posso entrar') \n",
    "    print ('Fim')"
   ]
  },
  {
   "cell_type": "code",
   "execution_count": null,
   "metadata": {},
   "outputs": [
    {
     "name": "stdout",
     "output_type": "stream",
     "text": [
      "Maior de idade\n",
      "Fim\n"
     ]
    }
   ],
   "source": [
    "# Passo 1: Receber idade\n",
    "idade = int(input('Digite aqui sua idade:'))\n",
    "#Passo 2: Verificar se é maior ou igual a 18\n",
    "if idade >= 18 :\n",
    "    #Passo 3:Se for menor de 18 exibir \"menor de idade\"\n",
    "        print('Maior de idade')\n",
    "        print ('Fim')\n",
    "if idade <= 18 :\n",
    "        print ('Menor de idade')\n",
    "        print ('Fim')"
   ]
  },
  {
   "cell_type": "code",
   "execution_count": 1,
   "metadata": {},
   "outputs": [],
   "source": [
    "tenho_ingresso = True\n",
    "if tenho_ingresso == True :\n",
    "    print ('Posso entrar')\n",
    "    print ('*********')\n",
    "    print ('*********')\n",
    "else :\n",
    "    print ('Vá comprar')\n",
    "print('fim')"
   ]
  },
  {
   "cell_type": "markdown",
   "metadata": {},
   "source": [
    "01/03/2024 - Operadores Lógicos e Estrutura Condicional"
   ]
  },
  {
   "cell_type": "code",
   "execution_count": 4,
   "metadata": {},
   "outputs": [
    {
     "name": "stdout",
     "output_type": "stream",
     "text": [
      "False\n",
      "False\n",
      "True\n",
      "True\n"
     ]
    }
   ],
   "source": [
    "#Criar três variáveis \n",
    "a = 2\n",
    "b = 3\n",
    "c = 5\n",
    "#       False    e    False\n",
    "print ((a > 2 ) and (b < 2))\n",
    "#       False  Ou   False\n",
    "print ((a > 2) or (b < 2))\n",
    "#       False  ou   True \n",
    "print ((a > 2) or (b > 2))\n",
    "#-=-=-=-=-=-=-=-=-=-=-=-=-=-=-=-=-=-=-=-=-=-=-=-=-=\n",
    "idade = 18\n",
    "\n",
    "print (idade > 18 or idade == 18)"
   ]
  },
  {
   "cell_type": "code",
   "execution_count": 30,
   "metadata": {},
   "outputs": [
    {
     "name": "stdout",
     "output_type": "stream",
     "text": [
      "Peso ideal\n"
     ]
    }
   ],
   "source": [
    "altura =float(input('Digite sua altura'))\n",
    "peso = float(input('Digite seu peso'))\n",
    "imc = peso / (altura**2)\n",
    "if imc<18.5:\n",
    "    print ('Abaixo do peso ideal')\n",
    "elif (imc>= 18.6) and (imc <= 24.9):\n",
    "    print ('Peso ideal')\n",
    "elif imc > 25 and imc <= 29.9:\n",
    " print ('Sobrepeso')\n",
    "else:\n",
    "    print ('Obesidade')"
   ]
  },
  {
   "cell_type": "code",
   "execution_count": 35,
   "metadata": {},
   "outputs": [
    {
     "name": "stdout",
     "output_type": "stream",
     "text": [
      "Triângulo escaleno\n"
     ]
    }
   ],
   "source": [
    "lado1 = input ('Insira a medida de um lado do triângulo')\n",
    "lado2 =  input ('Insira a medida de outro lado do triângulo')\n",
    "lado3 = input ('Insira a medida de outro lado do triângulo')\n",
    "if (lado1 == lado2) and (lado2 == lado3):\n",
    "    print ('Triângulo equilátero')\n",
    "elif (lado1 != lado2) and (lado2 != lado3):\n",
    "    print ('Triângulo escaleno')\n",
    "else:\n",
    "    print ('Triângulo isósceles')"
   ]
  },
  {
   "cell_type": "code",
   "execution_count": 36,
   "metadata": {},
   "outputs": [
    {
     "name": "stdout",
     "output_type": "stream",
     "text": [
      "A letra d é uma consoante\n"
     ]
    }
   ],
   "source": [
    "letra = input('Digite uma letra')\n",
    "if letra == 'a' or letra == 'e' or letra =='i' or letra == 'o' or letra == 'u':\n",
    "    print (f'A letra {letra} é uma vogal')\n",
    "elif letra == '1' or letra =='2' or letra == '3':\n",
    "    print (f'O caracter {letra} é um número')\n",
    "else :\n",
    "    print (f'A letra {letra} é uma consoante')"
   ]
  },
  {
   "cell_type": "markdown",
   "metadata": {},
   "source": [
    "07/03/2024 - Estrutura condicional aninhada/ Match case"
   ]
  },
  {
   "cell_type": "code",
   "execution_count": 8,
   "metadata": {},
   "outputs": [
    {
     "name": "stdout",
     "output_type": "stream",
     "text": [
      "Seu voto é facultativo\n"
     ]
    }
   ],
   "source": [
    "#Podemos utilizar o \"elif\" que aprendemos na aula passada, porém tem casos em que podemos incluir outras estruturas condicionais em nosso código:\n",
    "idade = int(input('Digite sua idade'))\n",
    "if idade >= 18 and idade <= 70:\n",
    "    print ('Você é obrigado a votar')\n",
    "#É possível colocar outras condicionais dentro de uma mesma.\n",
    "else :\n",
    "    if idade < 16 :\n",
    "        print ('Você não pode votar')\n",
    "    else:\n",
    "        if idade >= 16 or idade > 70 :\n",
    "            print ('Seu voto é facultativo')"
   ]
  },
  {
   "cell_type": "code",
   "execution_count": 9,
   "metadata": {},
   "outputs": [
    {
     "name": "stdout",
     "output_type": "stream",
     "text": [
      "99\n"
     ]
    }
   ],
   "source": [
    "variavel1 = int(input('Digite um número inteiro'))\n",
    "variavel2 = int(input('Digite outro número inteiro'))\n",
    "operassaum = input('Digite uma operação +-*/**')\n",
    "\n",
    "match operassaum :\n",
    "    case '+' :\n",
    "        print (variavel1 + variavel2)\n",
    "    case '-':\n",
    "        print (variavel1 - variavel2)\n",
    "    case '*':\n",
    "        print (variavel1 *variavel2)\n",
    "    case '/':\n",
    "        print (variavel1 / variavel2)\n",
    "    case '**':\n",
    "        print (variavel1 ** variavel2)\n",
    "    case '_':\n",
    "        print (' Operador de dado inválido')\n",
    "\n",
    "\n"
   ]
  },
  {
   "cell_type": "markdown",
   "metadata": {},
   "source": [
    "21/03/2024 - Revisão de WHILE"
   ]
  },
  {
   "cell_type": "code",
   "execution_count": 6,
   "metadata": {},
   "outputs": [
    {
     "name": "stdout",
     "output_type": "stream",
     "text": [
      "Fim\n"
     ]
    }
   ],
   "source": [
    "resp = 'S'\n",
    "while resp == 'S':\n",
    "    resp = input ('Deseja continuar? [S/N]')\n",
    "print ('Fim')"
   ]
  },
  {
   "cell_type": "code",
   "execution_count": 10,
   "metadata": {},
   "outputs": [
    {
     "name": "stdout",
     "output_type": "stream",
     "text": [
      "Sua compra é de R$ 511.83 e você comprou 4 produto(s)\n"
     ]
    }
   ],
   "source": [
    "#''🤍''\n",
    "soma = 0\n",
    "quantidade = 0\n",
    "while True :\n",
    "    valor = float(input('Digite o valor do produto [-1 Para encerrar]'))\n",
    "    if valor == -1 :\n",
    "        break\n",
    "    soma = valor + soma\n",
    "    quantidade = quantidade + 1\n",
    "    \n",
    "print (f'Sua compra é de R$ {soma:.2f} e você comprou {quantidade} produto(s)')\n"
   ]
  },
  {
   "cell_type": "code",
   "execution_count": null,
   "metadata": {},
   "outputs": [],
   "source": []
  },
  {
   "cell_type": "code",
   "execution_count": 5,
   "metadata": {},
   "outputs": [
    {
     "name": "stdout",
     "output_type": "stream",
     "text": [
      "~~~~~~~~~~~~~ 🎲JOGO DA ADIVINHAÇÃO🎲 ~~~~~~~~~~~~\n",
      "Tente um número menor\n",
      "Tente um número menor\n",
      "Tente um número menor\n",
      "Tente um número menor\n",
      "Tente um número menor\n",
      "Tente um número maior\n",
      "Tente um número maior\n",
      "Tente um número maior\n",
      "Tente um número maior\n",
      "Tente um número maior\n",
      "Tente um número maior\n",
      "Tente um número maior\n",
      "Tente um número maior\n",
      "Você acertou!! 👏🎉\n",
      "Fim do jogo\n"
     ]
    }
   ],
   "source": [
    "#   Criar um programa no qual o computador escolha um número e o usuário tente adivnhar,\n",
    "# o usuário irá digitar números e o computador dirá se o número sorteado é maior, menor \n",
    "# ou se o usuário conseguiu acertar\n",
    "#-------------------------------------------------------------------------------------------\n",
    "#Importar a \"biblioteca\" de números aleatórios\n",
    "import random \n",
    "\n",
    "#Random para gerar um número e Randint para gerar um número inteiro\n",
    "numero = random.randint (1,100)\n",
    "\n",
    "print ('~~~~~~~~~~~~~ 🎲JOGO DA ADIVINHAÇÃO🎲 ~~~~~~~~~~~~')\n",
    "acertou = False \n",
    "while acertou == False :\n",
    "    chute = int(input('Digite um número de 1 a 100'))\n",
    "    if chute == numero: \n",
    "        print ('Você acertou!! 👏🎉')\n",
    "        break\n",
    "        chute == True \n",
    "    elif chute > numero:\n",
    "        print ('Tente um número menor')\n",
    "    else: \n",
    "        print ('Tente um número maior')\n",
    "print ('Fim do jogo')"
   ]
  },
  {
   "cell_type": "markdown",
   "metadata": {},
   "source": [
    "22/03/2024 - For"
   ]
  },
  {
   "cell_type": "code",
   "execution_count": 1,
   "metadata": {},
   "outputs": [
    {
     "name": "stdout",
     "output_type": "stream",
     "text": [
      "0\n",
      "1\n",
      "2\n",
      "3\n",
      "4\n",
      "5\n",
      "6\n",
      "7\n",
      "8\n",
      "9\n"
     ]
    }
   ],
   "source": [
    "for x in range(10):\n",
    "    print (x)"
   ]
  },
  {
   "cell_type": "code",
   "execution_count": 13,
   "metadata": {},
   "outputs": [
    {
     "name": "stdout",
     "output_type": "stream",
     "text": [
      "1\n",
      "2\n",
      "3\n",
      "4\n",
      "5\n",
      "6\n",
      "7\n",
      "8\n",
      "9\n",
      "10\n",
      "11\n",
      "12\n",
      "13\n",
      "14\n",
      "15\n"
     ]
    }
   ],
   "source": [
    "numero = int(input('Digite um número'))\n",
    "for numero in range(numero):\n",
    "    numero = numero + 1\n",
    "    print (numero)"
   ]
  },
  {
   "cell_type": "code",
   "execution_count": 14,
   "metadata": {},
   "outputs": [
    {
     "name": "stdout",
     "output_type": "stream",
     "text": [
      "Entregando notebooks\n",
      "Pegar o notebook 1\n",
      "Pegar o mouse 1\n",
      "Levar o notebook até o/a Arthur\n",
      "Pegar o notebook 2\n",
      "Pegar o mouse 2\n",
      "Levar o notebook até o/a Arthur P\n",
      "Pegar o notebook 3\n",
      "Pegar o mouse 3\n",
      "Levar o notebook até o/a Camila\n",
      "Não pegar o notebook 4\n",
      "Não pegar o notebook 5\n",
      "Não pegar o notebook 6\n",
      "Não pegar o notebook 7\n",
      "Não pegar o notebook 8\n",
      "Não pegar o notebook 9\n",
      "Não pegar o notebook 10\n",
      "Não pegar o notebook 11\n",
      "Não pegar o notebook 12\n",
      "Não pegar o notebook 13\n",
      "Não pegar o notebook 14\n",
      "Não pegar o notebook 15\n",
      "Não pegar o notebook 16\n",
      "Não pegar o notebook 17\n",
      "Não pegar o notebook 18\n",
      "Não pegar o notebook 19\n",
      "Não pegar o notebook 20\n",
      "Não pegar o notebook 21\n",
      "Não pegar o notebook 22\n",
      "Não pegar o notebook 23\n",
      "Não pegar o notebook 24\n",
      "Não pegar o notebook 25\n",
      "Não pegar o notebook 26\n",
      "Não pegar o notebook 27\n",
      "Não pegar o notebook 28\n",
      "Não pegar o notebook 29\n",
      "Não pegar o notebook 30\n",
      "Não pegar o notebook 31\n",
      "Não pegar o notebook 32\n",
      "Começar a aula\n"
     ]
    }
   ],
   "source": [
    "print ('Entregando notebooks')\n",
    "for nr in range(32):\n",
    "    nr = nr + 1\n",
    "    nome = input(f'Quem é o número {nr}')\n",
    "    presente = input(f'O {nome} veio para a escola? [S/N]')\n",
    "    if presente == 'S':\n",
    "        print (f'Pegar o notebook {nr}')\n",
    "        print (f'Pegar o mouse {nr}')\n",
    "        print (f'Levar o notebook até o/a {nome}')\n",
    "    else: \n",
    "        print (f'Não pegar o notebook {nr}')\n",
    "print ('Começar a aula')"
   ]
  },
  {
   "cell_type": "code",
   "execution_count": 17,
   "metadata": {},
   "outputs": [
    {
     "name": "stdout",
     "output_type": "stream",
     "text": [
      "True\n",
      "False\n",
      "True\n",
      "False\n",
      "True\n",
      "False\n",
      "True\n",
      "False\n"
     ]
    }
   ],
   "source": [
    "for x in range(2,10):\n",
    "    x = x % 2 == 0\n",
    "    print (x)"
   ]
  },
  {
   "cell_type": "code",
   "execution_count": 21,
   "metadata": {},
   "outputs": [
    {
     "name": "stdout",
     "output_type": "stream",
     "text": [
      "5\n",
      "6\n",
      "7\n",
      "8\n",
      "9\n"
     ]
    }
   ],
   "source": [
    "for x in range(5,10):\n",
    "    print (x)"
   ]
  },
  {
   "cell_type": "code",
   "execution_count": 18,
   "metadata": {},
   "outputs": [
    {
     "name": "stdout",
     "output_type": "stream",
     "text": [
      "5\n",
      "7\n",
      "9\n",
      "11\n",
      "13\n",
      "15\n",
      "17\n",
      "19\n",
      "21\n",
      "23\n",
      "25\n",
      "27\n",
      "29\n"
     ]
    }
   ],
   "source": [
    "for x in range(5,30,2):\n",
    "    print (x)"
   ]
  },
  {
   "cell_type": "code",
   "execution_count": 20,
   "metadata": {},
   "outputs": [
    {
     "name": "stdout",
     "output_type": "stream",
     "text": [
      "5 x 0 = 0\n",
      "5 x 1 = 5\n",
      "5 x 2 = 10\n",
      "5 x 3 = 15\n",
      "5 x 4 = 20\n",
      "5 x 5 = 25\n",
      "5 x 6 = 30\n",
      "5 x 7 = 35\n",
      "5 x 8 = 40\n",
      "5 x 9 = 45\n",
      "5 x 10 = 50\n"
     ]
    }
   ],
   "source": [
    "x = int(input('Digie um número'))\n",
    "for y in range(11):\n",
    "    print (f'{x} x {y} = {x*y}')"
   ]
  },
  {
   "cell_type": "markdown",
   "metadata": {},
   "source": [
    "Aula 28/03/2024 - Variáveis compostas  - Vetores/Listas"
   ]
  },
  {
   "cell_type": "code",
   "execution_count": 4,
   "metadata": {},
   "outputs": [
    {
     "name": "stdout",
     "output_type": "stream",
     "text": [
      "['Maça', 'Banana', 'Abacaxi', 'Uva']\n"
     ]
    }
   ],
   "source": [
    "frutas = ['Maça','Banana','Abacaxi','Uva']\n",
    "print (frutas)"
   ]
  },
  {
   "cell_type": "code",
   "execution_count": 5,
   "metadata": {},
   "outputs": [
    {
     "name": "stdout",
     "output_type": "stream",
     "text": [
      "Maça\n"
     ]
    }
   ],
   "source": [
    "frutas = ['Maça','Banana','Abacaxi','Uva']\n",
    "#Para printar uma informação da variável usa-se o nome da variável e [o número da informação]\n",
    "print (frutas[0])\n"
   ]
  },
  {
   "cell_type": "code",
   "execution_count": null,
   "metadata": {},
   "outputs": [],
   "source": [
    "frutas = ['Maça','Banana','Abacaxi','Uva']\n",
    "numero = input('Digite um número de um a quatro')\n",
    "if numero == \"0\":\n",
    "    print (frutas[0])\n",
    "elif numero =='1':\n",
    "    print (frutas[1])\n",
    "elif numero == '2':\n",
    "    print (frutas[2])\n",
    "elif numero =='3':\n",
    "    print (frutas[3])\n",
    "else :\n",
    "    print (frutas[4])\n",
    "\n"
   ]
  },
  {
   "cell_type": "code",
   "execution_count": null,
   "metadata": {},
   "outputs": [],
   "source": [
    "#Declaração de lista vazia\n",
    "lista_vazia = []\n",
    "#Declaração de lista de número\n",
    "lista_numeros = [1,2,3,4,5]\n",
    "#Declaração de Strings\n",
    "lista_nomes = ['Ana', 'Fábio','Julia']\n",
    "#Declaração de lista mista\n",
    "lista_mista = ['Uva',1, True, 3.5]"
   ]
  },
  {
   "cell_type": "code",
   "execution_count": 1,
   "metadata": {},
   "outputs": [
    {
     "name": "stdout",
     "output_type": "stream",
     "text": [
      "Uva\n",
      "Melância\n"
     ]
    }
   ],
   "source": [
    "frutas = ['Maça','Banana','Abacaxi','Uva']\n",
    "print(frutas[3])\n",
    "frutas[3] = 'Melância'\n",
    "print(frutas[3])"
   ]
  },
  {
   "cell_type": "code",
   "execution_count": 6,
   "metadata": {},
   "outputs": [
    {
     "name": "stdout",
     "output_type": "stream",
     "text": [
      "Laranja\n",
      "['Maça', 'Banana', 'Morango', 'Abacaxi', 'Uva', 'Laranja']\n"
     ]
    }
   ],
   "source": [
    "#Para incluir um novo item na lista, utiliza-se o método .append (O novo item irá automaticamente para o final da lista)\n",
    "frutas = ['Maça','Banana','Abacaxi','Uva']\n",
    "frutas.append('Laranja')\n",
    "print (frutas[4])\n",
    "#Para inserir um item à lista em uma posição específica utiliza-se o .insert\n",
    "frutas.insert(2,\"Morango\")\n",
    "#Os outros itens que estão após o item inserido avançarão uma posição para a frente\n",
    "print (frutas)\n"
   ]
  },
  {
   "cell_type": "code",
   "execution_count": null,
   "metadata": {},
   "outputs": [],
   "source": [
    "#Para excluir um item da lista existem 3 me´todos: \n",
    "#del (nome da variável)[número da posição da variável]\n",
    "#(nome da variável)pop[número da posição da variável]\n",
    "#(nome da variável).remove[número da posição da variável]\n",
    "del frutas[4]\n",
    "frutas.pop(2)\n",
    "frutas.remove('Abacaxi')\n",
    "#Excluindo o último item da lista\n",
    "frutas.pop()\n",
    "print (frutas)\n"
   ]
  },
  {
   "cell_type": "code",
   "execution_count": 7,
   "metadata": {},
   "outputs": [
    {
     "name": "stdout",
     "output_type": "stream",
     "text": [
      "Melância\n",
      "['Maça', 'Banana', 'Moango', 'Abacaxi']\n",
      "['Banana', 'Moango', 'Abacaxi', 'Melância', 'Laranja', 'Uva']\n",
      "Uva\n",
      "7\n"
     ]
    }
   ],
   "source": [
    "frutas = ['Maça','Banana','Moango','Abacaxi','Melância','Laranja','Uva']\n",
    "print (frutas[4])\n",
    "#Para imprimir do primeiro ao quarto\n",
    "print (frutas[0:4])\n",
    "#Imprimir do 1 ao último\n",
    "print (frutas[1:])\n",
    "#Imprimir o número de itens do fim pro início\n",
    "print (frutas[-1])\n",
    "#Imprimir o total de itens\n",
    "print (len(frutas))"
   ]
  },
  {
   "cell_type": "code",
   "execution_count": 11,
   "metadata": {},
   "outputs": [
    {
     "name": "stdout",
     "output_type": "stream",
     "text": [
      "['Abacaxi', 'Banana', 'Laranja', 'Maça', 'Melância', 'Moango', 'Uva']\n",
      "['Uva', 'Moango', 'Melância', 'Maça', 'Laranja', 'Banana', 'Abacaxi']\n"
     ]
    }
   ],
   "source": [
    "frutas = ['Maça','Banana','Morango','Abacaxi','Melância','Laranja','Uva']\n",
    "#Para ordenar os itens da lista utiliza-se o método .sort\n",
    "#(nome da variável).sort() - Isso faz com que fique em ordem crescente \n",
    "frutas.sort()\n",
    "print (frutas)\n",
    "#Para ordenar em ordem decrescente utiliza-se o método .reverse()\n",
    "frutas.reverse()\n",
    "print (frutas)"
   ]
  },
  {
   "cell_type": "markdown",
   "metadata": {},
   "source": [
    "Aula 04/04/2024 - Iteração de listas"
   ]
  },
  {
   "cell_type": "code",
   "execution_count": 1,
   "metadata": {},
   "outputs": [
    {
     "name": "stdout",
     "output_type": "stream",
     "text": [
      "É uma vogal\n"
     ]
    }
   ],
   "source": [
    "#Criando listas de vogais \n",
    "vogais = ['a','e','i','o','u']\n",
    "if 'o' in vogais:\n",
    "    print (\"É uma vogal\")\n",
    "else:\n",
    "    print ('Não é uma vogal')"
   ]
  },
  {
   "cell_type": "code",
   "execution_count": 6,
   "metadata": {},
   "outputs": [
    {
     "name": "stdout",
     "output_type": "stream",
     "text": [
      "É uma vogal\n"
     ]
    }
   ],
   "source": [
    "vogais = ['a','e','i','o','u']\n",
    "consoante = ['b', 'c', 'd', 'f', 'g', 'h', 'j', 'k' ,'l', 'm', 'n', 'p' ,'q' ,'r',' s', 't' ,'v', 'w' ,'x' ,'y', 'z']\n",
    "#Recebendo um caractere digitado pelo usuário\n",
    "letra = input('Digite uma letra')\n",
    "# o método .lower() deixa todas as letras digitadas como minúsculas\n",
    "# o método .upper() deixa todas as letras digitadas como maiusculas\n",
    "# lemos da seguinte forma:\n",
    "# SE letra em MINÚSCULA ESTIVER na lista de vogais ENTÃO\n",
    "if letra.lower() in vogais:\n",
    "    print ('É uma vogal')\n",
    "elif letra.lower() in consoante: \n",
    "    print ('É uma consoante')\n",
    "else:\n",
    "    print ('Não é uma letra')"
   ]
  },
  {
   "cell_type": "code",
   "execution_count": 15,
   "metadata": {},
   "outputs": [
    {
     "name": "stdout",
     "output_type": "stream",
     "text": [
      "3 é um número\n"
     ]
    }
   ],
   "source": [
    "vogais = ['a','e','i','o','u']\n",
    "consoante = ['b', 'c', 'd', 'f', 'g', 'h', 'j', 'k' ,'l', 'm', 'n', 'p' ,'q' ,'r',' s', 't' ,'v', 'w' ,'x' ,'y', 'z']\n",
    "numero = ['1', '2' ,'3', '4', '5', '6', '7', '8' ,'9', '0']\n",
    "letra = input('Digite uma letra')\n",
    "\n",
    "if letra.lower() in vogais:\n",
    "    print (f'{letra} é uma vogal')\n",
    "elif letra.lower() in consoante: \n",
    "    print (f'{letra} é uma consoante')\n",
    "elif letra in numero:\n",
    "    print (f'{letra} é um número')    \n",
    "else:\n",
    "    print (f'{letra} não é uma letra')"
   ]
  },
  {
   "cell_type": "code",
   "execution_count": 14,
   "metadata": {},
   "outputs": [
    {
     "name": "stdout",
     "output_type": "stream",
     "text": [
      "É uma vogal\n",
      "É uma vogal\n",
      "Não é uma letra\n"
     ]
    }
   ],
   "source": [
    "vogais = ['a','e','i','o','u']\n",
    "consoante = ['b', 'c', 'd', 'f', 'g', 'h', 'j', 'k' ,'l', 'm', 'n', 'p' ,'q' ,'r',' s', 't' ,'v', 'w' ,'x' ,'y', 'z']\n",
    "letra = \"\"\n",
    "while letra != 'parar':\n",
    "    letra = input('Digite uma letra')\n",
    "    if letra.lower() in vogais:\n",
    "        print ('É uma vogal')\n",
    "    elif letra.lower() in consoante: \n",
    "        print ('É uma consoante')\n",
    "    else:\n",
    "        print ('Não é uma letra')\n"
   ]
  },
  {
   "cell_type": "code",
   "execution_count": 16,
   "metadata": {},
   "outputs": [
    {
     "name": "stdout",
     "output_type": "stream",
     "text": [
      "Pelé\n",
      "Maradona\n",
      "Messi\n",
      "Cristiano Ronaldo\n"
     ]
    }
   ],
   "source": [
    "listaNomes= ['Pelé','Maradona','Messi','Cristiano Ronaldo']\n",
    "for nome in listaNomes:\n",
    "    print (nome)\n"
   ]
  },
  {
   "cell_type": "code",
   "execution_count": 17,
   "metadata": {},
   "outputs": [
    {
     "name": "stdout",
     "output_type": "stream",
     "text": [
      "26\n"
     ]
    }
   ],
   "source": [
    "listaNrs = [4,6,2,5,9]\n",
    "soma = 0\n",
    "for nr in listaNrs:\n",
    "    soma = soma + nr\n",
    "print (soma)"
   ]
  },
  {
   "cell_type": "code",
   "execution_count": null,
   "metadata": {},
   "outputs": [],
   "source": [
    "#Esta função faz a mesma coisa que o código acima\n",
    "listaNrs = [4,6,2,5,9]\n",
    "sum listaNrs\n"
   ]
  },
  {
   "cell_type": "code",
   "execution_count": 19,
   "metadata": {},
   "outputs": [
    {
     "name": "stdout",
     "output_type": "stream",
     "text": [
      "A fruta Maçã está na posição 0\n",
      "A fruta Banana está na posição 1\n",
      "A fruta Abacaxi está na posição 2\n",
      "A fruta Uva está na posição 3\n"
     ]
    }
   ],
   "source": [
    "frutas = ['Maçã','Banana','Abacaxi','Uva']\n",
    "for pos,frutas in enumerate(frutas):\n",
    "    print(f'A fruta {frutas} está na posição {pos}')"
   ]
  },
  {
   "cell_type": "code",
   "execution_count": 21,
   "metadata": {},
   "outputs": [
    {
     "name": "stdout",
     "output_type": "stream",
     "text": [
      "Celular\n",
      "Notebook\n",
      "Televisão\n",
      "Tablet\n",
      "Headset\n"
     ]
    }
   ],
   "source": [
    "produtos = 'Celular,Notebook,Televisão,Tablet,Headset'\n",
    "lista_produtos = produtos.split(',')\n",
    "for produtos in lista_produtos:\n",
    "    print (produtos)"
   ]
  },
  {
   "cell_type": "code",
   "execution_count": 24,
   "metadata": {},
   "outputs": [
    {
     "name": "stdout",
     "output_type": "stream",
     "text": [
      "S\n",
      "E\n",
      "N\n",
      "A\n",
      "I\n",
      "____________________________\n",
      "S\n",
      "I\n"
     ]
    }
   ],
   "source": [
    "palavra = 'SENAI'\n",
    "for letra in palavra:\n",
    "    print (letra)\n",
    "print ('____________________________')\n",
    "print (palavra[0])\n",
    "print (palavra[-1])"
   ]
  },
  {
   "cell_type": "markdown",
   "metadata": {},
   "source": [
    "Aula 05/04 - "
   ]
  },
  {
   "cell_type": "code",
   "execution_count": 4,
   "metadata": {},
   "outputs": [
    {
     "name": "stdout",
     "output_type": "stream",
     "text": [
      "0° lasanha\n",
      "1° Macarrão\n",
      "2° maçã\n",
      "3° pizza\n"
     ]
    }
   ],
   "source": [
    "#criando lista vazia\n",
    "listaComidas = []\n",
    "#laço de repetição sem u número de execução definida\n",
    "while True:\n",
    "    #recebendo informação do usuário e armazenando em uma variável\n",
    "    comida = input('Digite uma comida aqui:')\n",
    "    #inserindo o valor da variável no final da lista\n",
    "    listaComidas.append(comida)\n",
    "    #obtendo a resposta do usuário se deseja continuar \n",
    "    resposta = input('Deseja continuar? [S/N]')\n",
    "    if resposta in 'Nn':\n",
    "        #parando o laço while\n",
    "        break\n",
    "#fora do while, ou seja, após finalizar a execução do break\n",
    "#laço de repetição para receber os itens e suas posições \n",
    "for pos, comida in enumerate(listaComidas):\n",
    "    #exibindo as vaiáveis de cada item da lista \n",
    "    print (f'{pos}° {comida}')"
   ]
  },
  {
   "cell_type": "code",
   "execution_count": 15,
   "metadata": {},
   "outputs": [
    {
     "name": "stdout",
     "output_type": "stream",
     "text": [
      "1\n",
      "2\n",
      "3\n",
      "4\n",
      "5\n",
      "6\n",
      "7\n",
      "8\n",
      "9\n",
      "1\n",
      "0\n"
     ]
    }
   ],
   "source": [
    "numeros = '12345678910'\n",
    "for numero in numeros:\n",
    "    print (numero)"
   ]
  },
  {
   "cell_type": "markdown",
   "metadata": {},
   "source": [
    "11/04/2024 - Funções"
   ]
  },
  {
   "cell_type": "code",
   "execution_count": 1,
   "metadata": {},
   "outputs": [
    {
     "name": "stdout",
     "output_type": "stream",
     "text": [
      "--------------------\n",
      "SESI/SENAI\n",
      "--------------------\n"
     ]
    }
   ],
   "source": [
    "print ('-'*20)\n",
    "print ('SESI/SENAI')\n",
    "print ('-'*20)"
   ]
  },
  {
   "cell_type": "code",
   "execution_count": 2,
   "metadata": {},
   "outputs": [
    {
     "name": "stdout",
     "output_type": "stream",
     "text": [
      "--------------------\n",
      "SESI/SENAI\n",
      "--------------------\n"
     ]
    }
   ],
   "source": [
    "def Linha():\n",
    "    print ('-'*20)\n",
    "Linha()\n",
    "print('SESI/SENAI')\n",
    "Linha()\n",
    "\n"
   ]
  },
  {
   "cell_type": "code",
   "execution_count": 6,
   "metadata": {},
   "outputs": [
    {
     "name": "stdout",
     "output_type": "stream",
     "text": [
      "--------------------\n",
      "SESI/SENAI\n",
      "--------------------\n"
     ]
    },
    {
     "data": {
      "text/plain": [
       "'> Aprendendo funções'"
      ]
     },
     "execution_count": 6,
     "metadata": {},
     "output_type": "execute_result"
    }
   ],
   "source": [
    "def Linha():\n",
    "    print ('-'*20)\n",
    "\n",
    "def Cabeçalho():\n",
    "    Linha()\n",
    "    print ('SESI/SENAI')\n",
    "    Linha()\n",
    "\n",
    "Cabeçalho()\n",
    "\n",
    "print ('> Aprendendo funções')\n"
   ]
  },
  {
   "cell_type": "code",
   "execution_count": 23,
   "metadata": {},
   "outputs": [
    {
     "name": "stdout",
     "output_type": "stream",
     "text": [
      "Bom dia, Maria\n",
      "Bom dia, Eduarda\n",
      "Bom dia, Petroni dos Santos\n"
     ]
    }
   ],
   "source": [
    "\n",
    "def Saudassaum():\n",
    "    Nome1 =  (input('Digite um nome'))\n",
    "    print (f'Bom dia, {Nome1}')\n",
    "\n",
    "Saudassaum()\n",
    "Saudassaum()\n",
    "Saudassaum()\n",
    "    "
   ]
  },
  {
   "cell_type": "code",
   "execution_count": 24,
   "metadata": {},
   "outputs": [
    {
     "name": "stdout",
     "output_type": "stream",
     "text": [
      "--------------------\n",
      "SESI/SENAI\n",
      "--------------------\n",
      "--------------------\n",
      "SESI/SENAI\n",
      "--------------------\n",
      "--------------------\n",
      "SESI/SENAI\n",
      "--------------------\n"
     ]
    }
   ],
   "source": [
    "def Linha():\n",
    "    print ('-'*20)\n",
    "\n",
    "def Cabeçalho(texto):\n",
    "    Linha()\n",
    "    print ('SESI/SENAI')\n",
    "    Linha()\n",
    "\n",
    "Cabeçalho('SESI')\n",
    "Cabeçalho('SENAI')\n",
    "Cabeçalho('ESCOLA')"
   ]
  },
  {
   "cell_type": "code",
   "execution_count": 25,
   "metadata": {},
   "outputs": [
    {
     "name": "stdout",
     "output_type": "stream",
     "text": [
      "A soma dos números é 13\n",
      "A soma dos números é 1877\n",
      "A soma dos números é 69\n"
     ]
    }
   ],
   "source": [
    "def soma (n1,n2):\n",
    "    resposta = n1 + n2\n",
    "    print(f'A soma dos números é {resposta}')\n",
    "\n",
    "soma(5,8)\n",
    "soma(889,988)\n",
    "soma(34,35)"
   ]
  },
  {
   "cell_type": "code",
   "execution_count": 33,
   "metadata": {},
   "outputs": [
    {
     "name": "stdout",
     "output_type": "stream",
     "text": [
      "O número 4 é par\n"
     ]
    }
   ],
   "source": [
    "def ParImpar (n1):\n",
    "   if n1 % 2 == 0:\n",
    "      print (f'O número {n1} é par')\n",
    "   else:\n",
    "      print (f'O número {n1} é ímpar')\n",
    "\n",
    "ParImpar(int(input('Digite um número')))\n"
   ]
  },
  {
   "cell_type": "code",
   "execution_count": 38,
   "metadata": {},
   "outputs": [
    {
     "name": "stdout",
     "output_type": "stream",
     "text": [
      "7.5\n"
     ]
    }
   ],
   "source": [
    "def Media(n1,n2):\n",
    "    res = (n1 + n2) / 2\n",
    "    return(res)\n",
    "resposta_media = Media(8.5,6.5)\n",
    "print (resposta_media)\n"
   ]
  },
  {
   "cell_type": "code",
   "execution_count": 6,
   "metadata": {},
   "outputs": [
    {
     "name": "stdout",
     "output_type": "stream",
     "text": [
      "25/12/1987\n",
      "27/2/1989\n"
     ]
    }
   ],
   "source": [
    "def FormatarData (dia,mês,ano):\n",
    "    data = (f'{dia}/{mês}/{ano}')\n",
    "    return (data)\n",
    "\n",
    "\n",
    "print(FormatarData (25,12,1987))\n",
    "print(FormatarData (27,0o2,1989))\n",
    "\n"
   ]
  },
  {
   "cell_type": "code",
   "execution_count": null,
   "metadata": {},
   "outputs": [],
   "source": []
  },
  {
   "cell_type": "markdown",
   "metadata": {},
   "source": [
    "11/04/2024 - Escopo de Variáveis (Variável Global e Local)"
   ]
  },
  {
   "cell_type": "code",
   "execution_count": 2,
   "metadata": {},
   "outputs": [
    {
     "name": "stdout",
     "output_type": "stream",
     "text": [
      "Valor ANTES da função SENAI\n",
      "Valor dentro da função SESI\n",
      "Valor DEPOIS da função SENAI\n"
     ]
    }
   ],
   "source": [
    "def NomeEscola():\n",
    "    escola = 'SESI'\n",
    "    print (f'Valor dentro da função {escola}')\n",
    "escola = 'SENAI'\n",
    "print (f'Valor ANTES da função {escola}')\n",
    "NomeEscola()\n",
    "print (f'Valor DEPOIS da função {escola}')"
   ]
  },
  {
   "cell_type": "code",
   "execution_count": null,
   "metadata": {},
   "outputs": [],
   "source": [
    "def NomeEscola():\n",
    "    # Caso eu queira atualizar o conteúdo da variável da escola\n",
    "    # preciso escrever que ela é global\n",
    "    global escola\n",
    "    escola = 'SESI' # Alterando o valor da variável global\n",
    "print (escola)"
   ]
  },
  {
   "cell_type": "code",
   "execution_count": 3,
   "metadata": {},
   "outputs": [
    {
     "name": "stdout",
     "output_type": "stream",
     "text": [
      "Fora da função 10\n",
      "Dentro da função 1\n",
      "Fora da função 10\n"
     ]
    }
   ],
   "source": [
    "x = 10 # X é uma variável global\n",
    "# Podemos acessar X fora de uma função também\n",
    "print ('Fora da função',x)\n",
    "\n",
    "def MinhaFunssaum():\n",
    "    x = 0 # <----Variável local \n",
    "    x = x + 1 \n",
    "    print ('Dentro da função',x)\n",
    "MinhaFunssaum()\n",
    "print ('Fora da função', x)\n"
   ]
  },
  {
   "cell_type": "code",
   "execution_count": null,
   "metadata": {},
   "outputs": [],
   "source": [
    "x = 10 # X é uma variável global\n",
    "# Podemos acessar X fora de uma função também\n",
    "print ('Fora da função',x)\n",
    "\n",
    "def MinhaFunssaum():\n",
    "    global x # < Dizendo que usaremos a variável x global\n",
    "x = x + 1 \n",
    "print ('Dentro da função',x)\n",
    "MinhaFunssaum()\n",
    "print ('Fora da função', x)\n"
   ]
  },
  {
   "cell_type": "code",
   "execution_count": null,
   "metadata": {},
   "outputs": [],
   "source": [
    "#Assim podemos indicar o tipo de informação que a função quer receber\n",
    "def minhaFunssaum(nome: str, idade: int):\n",
    "    '''\n",
    "    Aqui posso escrever a descrição do que faz a minha função\n",
    "    '''\n",
    "minhaFunssaum()\n",
    "\n"
   ]
  }
 ],
 "metadata": {
  "kernelspec": {
   "display_name": "Python 3",
   "language": "python",
   "name": "python3"
  },
  "language_info": {
   "codemirror_mode": {
    "name": "ipython",
    "version": 3
   },
   "file_extension": ".py",
   "mimetype": "text/x-python",
   "name": "python",
   "nbconvert_exporter": "python",
   "pygments_lexer": "ipython3",
   "version": "3.12.3"
  }
 },
 "nbformat": 4,
 "nbformat_minor": 2
}
