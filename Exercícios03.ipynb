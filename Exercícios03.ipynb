{
 "cells": [
  {
   "cell_type": "markdown",
   "metadata": {},
   "source": [
    "'Só aprendemos praticando' 1. Pede ao usuário para digitar um número de 1 a 7 e imprime o dia da semana correspondente."
   ]
  },
  {
   "cell_type": "code",
   "execution_count": 19,
   "metadata": {},
   "outputs": [
    {
     "name": "stdout",
     "output_type": "stream",
     "text": [
      "O dia da semana 3 é terça-feira\n"
     ]
    }
   ],
   "source": [
    "dia_da_semana = input('Digite um número de 1 a 7')\n",
    "match dia_da_semana :\n",
    "    case  '1' :\n",
    "        print (f'O dia da semana {dia_da_semana} é domingo')\n",
    "    case  '2':\n",
    "        print (f'O dia da semana {dia_da_semana} é segunda')\n",
    "    case  '3':\n",
    "        print (f'O dia da semana {dia_da_semana} é terça-feira')\n",
    "    case '4':\n",
    "        print (f'O dia da semana {dia_da_semana} é quarta-feira')\n",
    "    case '5':\n",
    "        print (f'O dia da semana {dia_da_semana} é quinta-feira')\n",
    "    case '6':\n",
    "        print (f'O dia da semana {dia_da_semana} é sexta-feira')\n",
    "    case '7':\n",
    "        print (f'O dia da semana {dia_da_semana} é sábado')\n"
   ]
  },
  {
   "cell_type": "markdown",
   "metadata": {},
   "source": [
    "'Só aprendemos praticando' 2. Pede ao usuário o ano atual e o ano de nascimento e verifique em qual faixa etária ele\n",
    "pertence considerando (abaixo de 10 é criança, de 11 a 17 adolescente, de 18 a 59 adulto,\n",
    "acima de 60 idoso)"
   ]
  },
  {
   "cell_type": "code",
   "execution_count": 20,
   "metadata": {},
   "outputs": [
    {
     "name": "stdout",
     "output_type": "stream",
     "text": [
      "Adolescente\n"
     ]
    }
   ],
   "source": [
    "anodenascimento = int(input('Insira seu ano de nascimento'))\n",
    "anoatual = int(input('Insira o ano atual'))\n",
    "idade = anoatual - anodenascimento\n",
    "if idade <= 10:\n",
    "    print ('Criança')\n",
    "elif idade >= 11 and idade <= 17:\n",
    "    print ('Adolescente')\n",
    "elif idade >= 18 and idade <= 59:\n",
    "    print ('Adulto')\n",
    "else:\n",
    "    print ('Idoso')"
   ]
  },
  {
   "cell_type": "markdown",
   "metadata": {},
   "source": [
    "'Só aprendemos praticando' 3. Pede ao usuário para digitar o nome de um mês e imprime o número de dias naquele mês."
   ]
  },
  {
   "cell_type": "code",
   "execution_count": 21,
   "metadata": {},
   "outputs": [],
   "source": [
    "mes = (input('Digite um mês do ano'))\n",
    "match mes.upper() :\n",
    "    case 'janeiro', 'março', 'maio', 'julho', 'agosto', 'outubro', 'dezembro':\n",
    "        print ('Este mês tem 31 dias')\n",
    "    case 'abril', 'junho', 'setembro', 'novembro':\n",
    "        print ('Este mês tem 30 dias')\n",
    "    case 'fevereiro':\n",
    "        print ('Este mês tem 28 ou 29 dias')"
   ]
  },
  {
   "cell_type": "markdown",
   "metadata": {},
   "source": [
    "'Só aprendemos praticando' 4. Pede ao usuário para digitar 2 notas e calcule sua média, e considere a média acima de 7\n",
    "aprovado, entre 5 e 7, em recuperação, abaixo de 5 reprovado."
   ]
  },
  {
   "cell_type": "code",
   "execution_count": 22,
   "metadata": {},
   "outputs": [
    {
     "name": "stdout",
     "output_type": "stream",
     "text": [
      "Aprovado\n"
     ]
    }
   ],
   "source": [
    "nota1 = float(input('Digite uma nota'))\n",
    "nota2 = float(input('Digite outra nota'))\n",
    "media = ((nota1 + nota2)/2)\n",
    "if media < 5:\n",
    "        print ('Reprovado')\n",
    "elif media >= 5 and media <= 7:\n",
    "        print ('Em recuperação')\n",
    "else:\n",
    "        print ('Aprovado')"
   ]
  },
  {
   "cell_type": "markdown",
   "metadata": {},
   "source": [
    "'Só aprendemos praticando' 5. Pede o salário do funcionário, e calcular o aumento que ele terá, considerando se ganhar até\n",
    "2000, reajuste de 12%, até 4000, reajuste de 10%, acima de 4000 reajuste de 8%, exibir o\n",
    "novo salário"
   ]
  },
  {
   "cell_type": "code",
   "execution_count": 27,
   "metadata": {},
   "outputs": [
    {
     "name": "stdout",
     "output_type": "stream",
     "text": [
      "Você ganhará R$5400.0\n"
     ]
    }
   ],
   "source": [
    "salahrio = float(input('Digite aqui o seu salário'))\n",
    "aumento1 = ((salahrio * 12 / 100) + salahrio)\n",
    "aumento2 = ((salahrio * 10 / 100) + 100)\n",
    "aumento3 = ((salahrio * 8 /100) + salahrio)\n",
    "if salahrio <= 2000:\n",
    "    print (f'Você ganhará {aumento1}')\n",
    "elif salahrio > 2000 and salahrio <= 4000:\n",
    "    print (f\"Você ganhará R${aumento2}\")\n",
    "else: \n",
    "    print (f'Você ganhará R${aumento3}')\n"
   ]
  },
  {
   "cell_type": "markdown",
   "metadata": {},
   "source": [
    "Desafio 01 - Peça o salário do funcionário e calcule o valor do IRPF e INSS do funcionário e quanto ele irá\n",
    "receber no final do mês, considerando a seguinte tabela:"
   ]
  },
  {
   "cell_type": "code",
   "execution_count": 24,
   "metadata": {},
   "outputs": [
    {
     "name": "stdout",
     "output_type": "stream",
     "text": [
      "Você receberá R$2312.5 de acordo com o IRPF\n",
      "E você receberá R$2275.0 de acordo com o INSS\n"
     ]
    }
   ],
   "source": [
    "salahrio = float(input('Insira seu salário aqui'))\n",
    "#--------- CONTAS DO IRFP ----------\n",
    "irpf1= salahrio* 7.5 / 100\n",
    "irpf2 = salahrio * 15 / 100\n",
    "irpf3 = salahrio * 22.5/ 100\n",
    "irpf4 = salahrio * 27.5/ 100\n",
    "#--------- CONTAS DO INSS ----------\n",
    "inss1 = salahrio*7.5/100\n",
    "inss2 = salahrio*9/100\n",
    "inss3 = salahrio*12/100\n",
    "inss4 = salahrio*14/100\n",
    "inss5 = salahrio - 908.85\n",
    "#--------------- IRPF ---------------\n",
    "if salahrio >= 2259.20 and salahrio <= 2826.65:\n",
    "    print (f'Você receberá R${salahrio - irpf1} de acordo com o IRPF')\n",
    "elif salahrio >= 2826.65 and salahrio <= 3751.05:\n",
    "    print (f'Você receberá R${salahrio - irpf2} de acordo com o IRPF')\n",
    "elif salahrio >= 3751.05 and salahrio <= 4664.68:\n",
    "    print (f'Você receberá R${salahrio - irpf3} de acordo com o IRPF')\n",
    "else:\n",
    "    print (f'Você receberá R${salahrio - irpf4} de acordo com o IRPF')\n",
    "#-----------------------------------\n",
    "#Até 1412.00 7.5%\n",
    "2 #Até 2666.68 9%\n",
    "3 #Até 4000.03 12%\n",
    "4 #Até 7786.02 14%\n",
    "5 #Acima de 7786.02\n",
    "#--------------- INSS --------------\n",
    "if salahrio <= 1412.00 :\n",
    "    print (f'E você receberá R${salahrio - inss1} de acordo com o INSS')\n",
    "elif salahrio >= 1412.00 and salahrio <= 2666.68:\n",
    "    print (f'E você receberá R${salahrio - inss2} de acordo com o INSS')\n",
    "elif salahrio >= 2666.68 and salahrio <= 4000.03:\n",
    "    print (f'E você receberá R${salahrio - inss3} de acordo com o INSS')\n",
    "elif salahrio >= 4000.03 and salahrio <= 7786.02:\n",
    "    print (f'E você receberá R${salahrio- inss4} de acordo com o INSS')\n",
    "else:\n",
    "    print (f'E você receberá R${salahrio - inss5} de acordo com o INSS')\n",
    "    "
   ]
  },
  {
   "cell_type": "markdown",
   "metadata": {},
   "source": [
    "Refazendo o desafio 01"
   ]
  },
  {
   "cell_type": "code",
   "execution_count": 29,
   "metadata": {},
   "outputs": [
    {
     "name": "stdout",
     "output_type": "stream",
     "text": [
      " Seu salário líquido será: R$ 3600.0\n"
     ]
    }
   ],
   "source": [
    "salario = float (input (\"Digite o salário:\"))\n",
    "if salario <= 2259 :\n",
    "    descontoirpf = 0\n",
    "elif salario <= 2826.65 :\n",
    "    descontoirpf = salario * 0.075  \n",
    "elif salario <= 3751.05 :\n",
    "    descontoirpf = salario * 0.15  \n",
    "elif salario <= 4664.68 :\n",
    "    descontoirpf = salario * 0.225 \n",
    "else :\n",
    "    descontoirpf = salario * 0.275 \n",
    "# Tabela do INSS\n",
    "if salario <= 1412:\n",
    "    desconto_inss = salario * 0.075\n",
    "elif salario <= 2666.68:\n",
    "    desconto_inss =  salario * 0.09\n",
    "elif salario <= 4000.3 :\n",
    "    desconto_inss = salario * 0.12 \n",
    "else :\n",
    "    salario <= 7786.02\n",
    "    desconto_inss = salario * 0.14\n",
    "\n",
    "salarioliquido = salario - (desconto_irpf + desconto_inss)\n",
    "print (f' Seu salário líquido será: R$ {salarioliquido}')\n"
   ]
  },
  {
   "cell_type": "markdown",
   "metadata": {},
   "source": [
    "Desafio 02. Para melhorar nosso desafio 01, vamos criar um novo calculando de forma real.\n",
    "Peça o salário do funcionário e calcule o valor do IRPF e INSS do funcionário e quanto ele irá\n",
    "receber no final do mês, considerando as seguintes tabelas e fórmulas:\n",
    "- Para calcular o INSS é calculado sobre o valor bruto do salário\n",
    "- Para calcular o IRPF é aplicado a tabela abaixo sobre o valor bruto menos o valor do INSS"
   ]
  },
  {
   "cell_type": "code",
   "execution_count": 26,
   "metadata": {},
   "outputs": [
    {
     "name": "stdout",
     "output_type": "stream",
     "text": [
      "E você receberá R$4300.0 de acordo com o INSS\n",
      "Você receberá R$3625.0 de acordo com o IRPF\n"
     ]
    }
   ],
   "source": [
    "# A conta INSS vai ser a mesma, a única que mudará será o IRPF. \n",
    "#Para calcular o IRPF será necessário fazer a diferença entre a faixa de salário que o cliente recebe se encontra e a faixa de salário anterior,\n",
    "#depois fazer esta diferença menos a porcentagem que se pede na faixa de salário do cliente\n",
    "salahrio = float(input('Insira seu salário aqui'))\n",
    "#-------------TABELA INSS----------------\n",
    "#Até 1412.00 7.5%\n",
    "2 #Até 2666.68 9%\n",
    "3 #Até 4000.03 12%\n",
    "4 #Até 7786.02 14%\n",
    "5 #Acima de 7786.02\n",
    "#--------- CONTAS DO INSS ----------\n",
    "inss1 = salahrio*7.5/100\n",
    "inss2 = salahrio*9/100\n",
    "inss3 = salahrio*12/100\n",
    "inss4 = salahrio*14/100\n",
    "inss5 = salahrio - 908.85\n",
    "#--------------- INSS --------------\n",
    "if salahrio <= 1412.00 :\n",
    "    print (f'E você receberá R${salahrio - inss1} de acordo com o INSS')\n",
    "elif salahrio >= 1412.00 and salahrio <= 2666.68:\n",
    "    print (f'E você receberá R${salahrio - inss2} de acordo com o INSS')\n",
    "elif salahrio >= 2666.68 and salahrio <= 4000.03:\n",
    "    print (f'E você receberá R${salahrio - inss3} de acordo com o INSS')\n",
    "elif salahrio >= 4000.03 and salahrio <= 7786.02:\n",
    "    print (f'E você receberá R${salahrio- inss4} de acordo com o INSS')\n",
    "else:\n",
    "    print (f'E você receberá R${salahrio - inss5} de acordo com o INSS')\n",
    "#--------- CONTAS DO IRFP ----------\n",
    "irpf1= salahrio* 7.5 / 100\n",
    "irpf2 = salahrio * 15 / 100\n",
    "irpf3 = salahrio * 22.5/ 100\n",
    "irpf4 = salahrio * 27.5/ 100\n",
    "#--------------TABELA atv.02 ----------------\n",
    "#Até 1412,00 7.5% sobre o salário\n",
    "#Até 2666,68 9% sobre a diferença das faixas 1 e 2\n",
    "#Até 4000,03 12% sobre a diferença das faixas 2 e 3\n",
    "#Até 7786,02 14% sobre a diferença das faixas 3 e 4\n",
    "#Acima de 7786,02 908,85\n",
    "#--------------- IRPF ---------------\n",
    "if salahrio >= 2259.20 and salahrio <= 2826.65:\n",
    "    print (f'Você receberá R${salahrio - irpf1 } de acordo com o IRPF')\n",
    "elif salahrio >= 2826.65 and salahrio <= 3751.05:\n",
    "    print (f'Você receberá R${salahrio - irpf2} de acordo com o IRPF')\n",
    "elif salahrio >= 3751.05 and salahrio <= 4664.68:\n",
    "    print (f'Você receberá R${salahrio - irpf3} de acordo com o IRPF')\n",
    "else:\n",
    "    print (f'Você receberá R${salahrio - irpf4} de acordo com o IRPF')"
   ]
  },
  {
   "cell_type": "markdown",
   "metadata": {},
   "source": [
    "Refazendo o desafio 02"
   ]
  },
  {
   "cell_type": "code",
   "execution_count": null,
   "metadata": {},
   "outputs": [],
   "source": [
    "salario = float(input('Insira aqui seu salário'))\n"
   ]
  }
 ],
 "metadata": {
  "kernelspec": {
   "display_name": "Python 3",
   "language": "python",
   "name": "python3"
  },
  "language_info": {
   "codemirror_mode": {
    "name": "ipython",
    "version": 3
   },
   "file_extension": ".py",
   "mimetype": "text/x-python",
   "name": "python",
   "nbconvert_exporter": "python",
   "pygments_lexer": "ipython3",
   "version": "3.12.2"
  }
 },
 "nbformat": 4,
 "nbformat_minor": 2
}
